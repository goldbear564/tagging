{
 "cells": [
  {
   "cell_type": "code",
   "execution_count": 2,
   "id": "f9e28abd",
   "metadata": {
    "scrolled": false
   },
   "outputs": [
    {
     "name": "stdout",
     "output_type": "stream",
     "text": [
      "Collecting nltk\n",
      "  Downloading nltk-3.7-py3-none-any.whl (1.5 MB)\n",
      "\u001b[2K     \u001b[90m━━━━━━━━━━━━━━━━━━━━━━━━━━━━━━━━━━━━━━━━\u001b[0m \u001b[32m1.5/1.5 MB\u001b[0m \u001b[31m7.9 MB/s\u001b[0m eta \u001b[36m0:00:00\u001b[0m:00:01\u001b[0m00:01\u001b[0m\n",
      "\u001b[?25hCollecting regex>=2021.8.3\n",
      "  Downloading regex-2022.9.13-cp38-cp38-manylinux_2_17_x86_64.manylinux2014_x86_64.whl (772 kB)\n",
      "\u001b[2K     \u001b[90m━━━━━━━━━━━━━━━━━━━━━━━━━━━━━━━━━━━━━━━\u001b[0m \u001b[32m772.3/772.3 kB\u001b[0m \u001b[31m6.2 MB/s\u001b[0m eta \u001b[36m0:00:00\u001b[0m00:01\u001b[0m00:01\u001b[0m\n",
      "\u001b[?25hCollecting click\n",
      "  Downloading click-8.1.3-py3-none-any.whl (96 kB)\n",
      "\u001b[2K     \u001b[90m━━━━━━━━━━━━━━━━━━━━━━━━━━━━━━━━━━━━━━━━\u001b[0m \u001b[32m96.6/96.6 kB\u001b[0m \u001b[31m1.7 MB/s\u001b[0m eta \u001b[36m0:00:00\u001b[0mta \u001b[36m0:00:01\u001b[0m\n",
      "\u001b[?25hRequirement already satisfied: tqdm in /home/kjw/anaconda3/envs/tf/lib/python3.8/site-packages (from nltk) (4.64.0)\n",
      "Requirement already satisfied: joblib in /home/kjw/anaconda3/envs/tf/lib/python3.8/site-packages (from nltk) (1.1.0)\n",
      "Installing collected packages: regex, click, nltk\n",
      "Successfully installed click-8.1.3 nltk-3.7 regex-2022.9.13\n"
     ]
    }
   ],
   "source": [
    "#!pip install nltk"
   ]
  },
  {
   "cell_type": "code",
   "execution_count": 1,
   "id": "b1bd29be",
   "metadata": {},
   "outputs": [],
   "source": [
    "import nltk  #영어 코퍼스에 토큰화와 품사 태깅 전처리를 진행한 문장 데이터 획득\n",
    "import numpy as np\n",
    "import matplotlib.pyplot as plt\n",
    "from tensorflow.keras.preprocessing.text import Tokenizer\n",
    "from tensorflow.keras.preprocessing.sequence import pad_sequences\n",
    "from tensorflow.keras.utils import to_categorical\n",
    "from sklearn.model_selection import train_test_split"
   ]
  },
  {
   "cell_type": "code",
   "execution_count": 6,
   "id": "d760ddc5",
   "metadata": {
    "scrolled": true
   },
   "outputs": [
    {
     "name": "stderr",
     "output_type": "stream",
     "text": [
      "[nltk_data] Downloading package treebank to /home/kjw/nltk_data...\n",
      "[nltk_data]   Unzipping corpora/treebank.zip.\n"
     ]
    },
    {
     "data": {
      "text/plain": [
       "True"
      ]
     },
     "execution_count": 6,
     "metadata": {},
     "output_type": "execute_result"
    }
   ],
   "source": [
    "#nltk.download('treebank')"
   ]
  },
  {
   "cell_type": "code",
   "execution_count": 2,
   "id": "353acce6",
   "metadata": {},
   "outputs": [
    {
     "name": "stdout",
     "output_type": "stream",
     "text": [
      "품사 태깅이 된 문장 개수: 3914\n"
     ]
    }
   ],
   "source": [
    "# 토큰화에 품사 태깅이 된 데이터 받아오기\n",
    "tagged_sentences = nltk.corpus.treebank.tagged_sents()\n",
    "print(f\"품사 태깅이 된 문장 개수: {len(tagged_sentences)}\")"
   ]
  },
  {
   "cell_type": "code",
   "execution_count": 3,
   "id": "9be7895a",
   "metadata": {},
   "outputs": [
    {
     "name": "stdout",
     "output_type": "stream",
     "text": [
      "[('Pierre', 'NNP'), ('Vinken', 'NNP'), (',', ','), ('61', 'CD'), ('years', 'NNS'), ('old', 'JJ'), (',', ','), ('will', 'MD'), ('join', 'VB'), ('the', 'DT'), ('board', 'NN'), ('as', 'IN'), ('a', 'DT'), ('nonexecutive', 'JJ'), ('director', 'NN'), ('Nov.', 'NNP'), ('29', 'CD'), ('.', '.')]\n"
     ]
    }
   ],
   "source": [
    "print(tagged_sentences[0])"
   ]
  },
  {
   "cell_type": "code",
   "execution_count": 4,
   "id": "fa2195b2",
   "metadata": {
    "scrolled": true
   },
   "outputs": [],
   "source": [
    "sentences, pos_tags=[], []\n",
    "test_sample=tagged_sentences[0]\n",
    "test_sentence, test_tag=zip(*test_sample)\n",
    "for tagged_sentence in tagged_sentences:\n",
    "        #각 문장에서 단어는 단어끼리, 품사는 품사끼리 묶어 변수에 저장\n",
    "        sentence, tag_info=zip(*tagged_sentence) \n",
    "        sentences.append(list(sentence))\n",
    "        pos_tags.append(list(tag_info))\n"
   ]
  },
  {
   "cell_type": "code",
   "execution_count": 5,
   "id": "fa59afac",
   "metadata": {
    "scrolled": true
   },
   "outputs": [
    {
     "name": "stdout",
     "output_type": "stream",
     "text": [
      "['Pierre', 'Vinken', ',', '61', 'years', 'old', ',', 'will', 'join', 'the', 'board', 'as', 'a', 'nonexecutive', 'director', 'Nov.', '29', '.']\n",
      "['NNP', 'NNP', ',', 'CD', 'NNS', 'JJ', ',', 'MD', 'VB', 'DT', 'NN', 'IN', 'DT', 'JJ', 'NN', 'NNP', 'CD', '.']\n"
     ]
    }
   ],
   "source": [
    "print(sentences[0])\n",
    "print(pos_tags[0])"
   ]
  },
  {
   "cell_type": "code",
   "execution_count": 6,
   "id": "f888c0dd",
   "metadata": {},
   "outputs": [
    {
     "name": "stdout",
     "output_type": "stream",
     "text": [
      "샘플의 최대 길이: 271\n",
      "샘플의 평균 길이: 25.722023505365357\n"
     ]
    },
    {
     "data": {
      "image/png": "[encoded data removed]",
      "text/plain": [
       "<Figure size 432x288 with 1 Axes>"
      ]
     },
     "metadata": {
      "needs_background": "light"
     },
     "output_type": "display_data"
    }
   ],
   "source": [
    "print(f'샘플의 최대 길이: {max(len(l) for l in sentences)}')\n",
    "print(f'샘플의 평균 길이: {(sum(map(len, sentences))/len(sentences))}')\n",
    "plt.hist([len(s) for s in sentences], bins=50)\n",
    "plt.xlabel('length of samples')\n",
    "plt.ylabel('number of samples')\n",
    "plt.show()"
   ]
  },
  {
   "cell_type": "code",
   "execution_count": 7,
   "id": "d40ee0de",
   "metadata": {},
   "outputs": [],
   "source": [
    "def tokenize(samples):\n",
    "  tokenizer = Tokenizer()\n",
    "  tokenizer.fit_on_texts(samples)\n",
    "  return tokenizer"
   ]
  },
  {
   "cell_type": "code",
   "execution_count": 8,
   "id": "944eecd0",
   "metadata": {},
   "outputs": [],
   "source": [
    "src_tokenizer = tokenize(sentences)\n",
    "tar_tokenizer = tokenize(pos_tags)"
   ]
  },
  {
   "cell_type": "code",
   "execution_count": 9,
   "id": "8b35d7ef",
   "metadata": {},
   "outputs": [
    {
     "name": "stdout",
     "output_type": "stream",
     "text": [
      "단어 집합의 크기 : 11388\n",
      "태깅 정보 집합의 크기 : 47\n"
     ]
    }
   ],
   "source": [
    "vocab_size=len(src_tokenizer.word_index)+1\n",
    "tag_size=len(tar_tokenizer.word_index)+1\n",
    "print(f'단어 집합의 크기 : {vocab_size}')\n",
    "print(f'태깅 정보 집합의 크기 : {tag_size}')"
   ]
  },
  {
   "cell_type": "code",
   "execution_count": 10,
   "id": "22056373",
   "metadata": {},
   "outputs": [
    {
     "name": "stdout",
     "output_type": "stream",
     "text": [
      "[[5601, 3746, 1, 2024, 86, 331, 1, 46, 2405, 2, 131, 27, 6, 2025, 332, 459, 2026, 3], [31, 3746, 20, 177, 4, 5602, 2915, 1, 2, 2916, 637, 147, 3]]\n",
      "[[3, 3, 8, 10, 6, 7, 8, 21, 13, 4, 1, 2, 4, 7, 1, 3, 10, 9], [3, 3, 17, 1, 2, 3, 3, 8, 4, 3, 19, 1, 9]]\n"
     ]
    }
   ],
   "source": [
    "X_train = src_tokenizer.texts_to_sequences(sentences)\n",
    "y_train = tar_tokenizer.texts_to_sequences(pos_tags)\n",
    "print(X_train[:2])\n",
    "print(y_train[:2])"
   ]
  },
  {
   "cell_type": "code",
   "execution_count": 11,
   "id": "f627e47a",
   "metadata": {},
   "outputs": [
    {
     "name": "stdout",
     "output_type": "stream",
     "text": [
      "[5601 3746    1 2024   86  331    1   46 2405    2  131   27    6 2025\n",
      "  332  459 2026    3    0    0    0    0    0    0    0    0    0    0\n",
      "    0    0    0    0    0    0    0    0    0    0    0    0    0    0\n",
      "    0    0    0    0    0    0    0    0    0    0    0    0    0    0\n",
      "    0    0    0    0    0    0    0    0    0    0    0    0    0    0\n",
      "    0    0    0    0    0    0    0    0    0    0    0    0    0    0\n",
      "    0    0    0    0    0    0    0    0    0    0    0    0    0    0\n",
      "    0    0    0    0    0    0    0    0    0    0    0    0    0    0\n",
      "    0    0    0    0    0    0    0    0    0    0    0    0    0    0\n",
      "    0    0    0    0    0    0    0    0    0    0    0    0    0    0\n",
      "    0    0    0    0    0    0    0    0    0    0]\n",
      "[ 3  3  8 10  6  7  8 21 13  4  1  2  4  7  1  3 10  9  0  0  0  0  0  0\n",
      "  0  0  0  0  0  0  0  0  0  0  0  0  0  0  0  0  0  0  0  0  0  0  0  0\n",
      "  0  0  0  0  0  0  0  0  0  0  0  0  0  0  0  0  0  0  0  0  0  0  0  0\n",
      "  0  0  0  0  0  0  0  0  0  0  0  0  0  0  0  0  0  0  0  0  0  0  0  0\n",
      "  0  0  0  0  0  0  0  0  0  0  0  0  0  0  0  0  0  0  0  0  0  0  0  0\n",
      "  0  0  0  0  0  0  0  0  0  0  0  0  0  0  0  0  0  0  0  0  0  0  0  0\n",
      "  0  0  0  0  0  0]\n"
     ]
    }
   ],
   "source": [
    "max_len = 150\n",
    "X_train = pad_sequences(X_train, padding='post', maxlen=max_len)\n",
    "y_train = pad_sequences(y_train, padding='post', maxlen=max_len)\n",
    "print(X_train[0])\n",
    "print(y_train[0])"
   ]
  },
  {
   "cell_type": "code",
   "execution_count": 12,
   "id": "744e00bb",
   "metadata": {
    "scrolled": true
   },
   "outputs": [
    {
     "name": "stdout",
     "output_type": "stream",
     "text": [
      "훈련 샘플 문장의 크기: (2504, 150)\n",
      "훈련 샘플 레이블의 크기: (2504, 150)\n",
      "검증 샘플 문장의 크기: (627, 150)\n",
      "검증 샘플 레이블의 크기: (627, 150)\n",
      "테스트 샘플 문장의 크기: (783, 150)\n",
      "테스트 샘플 레이블의 크기: (783, 150)\n"
     ]
    }
   ],
   "source": [
    "X_train, X_test, y_train, y_test = train_test_split(X_train, y_train, \n",
    "                                                    test_size=.2, \n",
    "                                                    random_state=777)\n",
    "X_train, X_val, y_train, y_val = train_test_split(X_train, y_train, \n",
    "                                                    test_size=.2, \n",
    "                                                    random_state=777)\n",
    "print(f'훈련 샘플 문장의 크기: {X_train.shape}')\n",
    "print(f'훈련 샘플 레이블의 크기: {y_train.shape}')\n",
    "print(f'검증 샘플 문장의 크기: {X_val.shape}')\n",
    "print(f'검증 샘플 레이블의 크기: {y_val.shape}')\n",
    "print(f'테스트 샘플 문장의 크기: {X_test.shape}')\n",
    "print(f'테스트 샘플 레이블의 크기: {y_test.shape}')"
   ]
  },
  {
   "cell_type": "code",
   "execution_count": 13,
   "id": "b825b4e0",
   "metadata": {
    "scrolled": false
   },
   "outputs": [
    {
     "name": "stderr",
     "output_type": "stream",
     "text": [
      "2022-10-03 21:21:17.690928: I tensorflow/stream_executor/cuda/cuda_gpu_executor.cc:936] successful NUMA node read from SysFS had negative value (-1), but there must be at least one NUMA node, so returning NUMA node zero\n",
      "2022-10-03 21:21:17.696580: I tensorflow/stream_executor/cuda/cuda_gpu_executor.cc:936] successful NUMA node read from SysFS had negative value (-1), but there must be at least one NUMA node, so returning NUMA node zero\n",
      "2022-10-03 21:21:17.696988: I tensorflow/stream_executor/cuda/cuda_gpu_executor.cc:936] successful NUMA node read from SysFS had negative value (-1), but there must be at least one NUMA node, so returning NUMA node zero\n",
      "2022-10-03 21:21:17.697670: I tensorflow/core/platform/cpu_feature_guard.cc:151] This TensorFlow binary is optimized with oneAPI Deep Neural Network Library (oneDNN) to use the following CPU instructions in performance-critical operations:  AVX2 FMA\n",
      "To enable them in other operations, rebuild TensorFlow with the appropriate compiler flags.\n",
      "2022-10-03 21:21:17.697985: I tensorflow/stream_executor/cuda/cuda_gpu_executor.cc:936] successful NUMA node read from SysFS had negative value (-1), but there must be at least one NUMA node, so returning NUMA node zero\n",
      "2022-10-03 21:21:17.698349: I tensorflow/stream_executor/cuda/cuda_gpu_executor.cc:936] successful NUMA node read from SysFS had negative value (-1), but there must be at least one NUMA node, so returning NUMA node zero\n",
      "2022-10-03 21:21:17.698693: I tensorflow/stream_executor/cuda/cuda_gpu_executor.cc:936] successful NUMA node read from SysFS had negative value (-1), but there must be at least one NUMA node, so returning NUMA node zero\n",
      "2022-10-03 21:21:18.153677: I tensorflow/stream_executor/cuda/cuda_gpu_executor.cc:936] successful NUMA node read from SysFS had negative value (-1), but there must be at least one NUMA node, so returning NUMA node zero\n",
      "2022-10-03 21:21:18.154093: I tensorflow/stream_executor/cuda/cuda_gpu_executor.cc:936] successful NUMA node read from SysFS had negative value (-1), but there must be at least one NUMA node, so returning NUMA node zero\n",
      "2022-10-03 21:21:18.154407: I tensorflow/stream_executor/cuda/cuda_gpu_executor.cc:936] successful NUMA node read from SysFS had negative value (-1), but there must be at least one NUMA node, so returning NUMA node zero\n",
      "2022-10-03 21:21:18.154695: I tensorflow/core/common_runtime/gpu/gpu_device.cc:1525] Created device /job:localhost/replica:0/task:0/device:GPU:0 with 6434 MB memory:  -> device: 0, name: NVIDIA GeForce RTX 2080 SUPER, pci bus id: 0000:02:00.0, compute capability: 7.5\n"
     ]
    },
    {
     "name": "stdout",
     "output_type": "stream",
     "text": [
      "Epoch 1/50\n"
     ]
    },
    {
     "name": "stderr",
     "output_type": "stream",
     "text": [
      "2022-10-03 21:21:24.331506: I tensorflow/stream_executor/cuda/cuda_dnn.cc:368] Loaded cuDNN version 8100\n"
     ]
    },
    {
     "name": "stdout",
     "output_type": "stream",
     "text": [
      "20/20 [==============================] - 8s 121ms/step - loss: 0.6152 - accuracy: 0.1478 - val_loss: 0.5244 - val_accuracy: 0.1416\n",
      "Epoch 2/50\n",
      "20/20 [==============================] - 0s 23ms/step - loss: 0.5180 - accuracy: 0.1607 - val_loss: 0.4887 - val_accuracy: 0.1919\n",
      "Epoch 3/50\n",
      "20/20 [==============================] - 0s 21ms/step - loss: 0.4864 - accuracy: 0.2591 - val_loss: 0.4518 - val_accuracy: 0.3848\n",
      "Epoch 4/50\n",
      "20/20 [==============================] - 0s 20ms/step - loss: 0.4259 - accuracy: 0.4348 - val_loss: 0.3638 - val_accuracy: 0.4771\n",
      "Epoch 5/50\n",
      "20/20 [==============================] - 0s 21ms/step - loss: 0.3188 - accuracy: 0.5383 - val_loss: 0.2597 - val_accuracy: 0.6290\n",
      "Epoch 6/50\n",
      "20/20 [==============================] - 0s 19ms/step - loss: 0.2201 - accuracy: 0.6997 - val_loss: 0.1797 - val_accuracy: 0.7596\n",
      "Epoch 7/50\n",
      "20/20 [==============================] - 0s 21ms/step - loss: 0.1406 - accuracy: 0.8325 - val_loss: 0.1206 - val_accuracy: 0.8430\n",
      "Epoch 8/50\n",
      "20/20 [==============================] - 0s 21ms/step - loss: 0.0859 - accuracy: 0.9054 - val_loss: 0.0870 - val_accuracy: 0.8806\n",
      "Epoch 9/50\n",
      "20/20 [==============================] - 0s 21ms/step - loss: 0.0554 - accuracy: 0.9390 - val_loss: 0.0691 - val_accuracy: 0.9006\n",
      "Epoch 10/50\n",
      "20/20 [==============================] - 0s 21ms/step - loss: 0.0386 - accuracy: 0.9574 - val_loss: 0.0593 - val_accuracy: 0.9101\n",
      "Epoch 11/50\n",
      "20/20 [==============================] - 0s 22ms/step - loss: 0.0288 - accuracy: 0.9675 - val_loss: 0.0534 - val_accuracy: 0.9140\n",
      "Epoch 12/50\n",
      "20/20 [==============================] - 0s 21ms/step - loss: 0.0226 - accuracy: 0.9737 - val_loss: 0.0502 - val_accuracy: 0.9176\n",
      "Epoch 13/50\n",
      "20/20 [==============================] - 0s 22ms/step - loss: 0.0186 - accuracy: 0.9778 - val_loss: 0.0483 - val_accuracy: 0.9194\n",
      "Epoch 14/50\n",
      "20/20 [==============================] - 0s 22ms/step - loss: 0.0156 - accuracy: 0.9804 - val_loss: 0.0467 - val_accuracy: 0.9206\n",
      "Epoch 15/50\n",
      "20/20 [==============================] - 0s 21ms/step - loss: 0.0135 - accuracy: 0.9829 - val_loss: 0.0463 - val_accuracy: 0.9212\n",
      "Epoch 16/50\n",
      "20/20 [==============================] - 0s 21ms/step - loss: 0.0119 - accuracy: 0.9847 - val_loss: 0.0454 - val_accuracy: 0.9225\n",
      "Epoch 17/50\n",
      "20/20 [==============================] - 0s 20ms/step - loss: 0.0105 - accuracy: 0.9868 - val_loss: 0.0451 - val_accuracy: 0.9226\n",
      "Epoch 18/50\n",
      "20/20 [==============================] - 0s 21ms/step - loss: 0.0095 - accuracy: 0.9882 - val_loss: 0.0450 - val_accuracy: 0.9230\n",
      "Epoch 19/50\n",
      "20/20 [==============================] - 0s 22ms/step - loss: 0.0085 - accuracy: 0.9894 - val_loss: 0.0452 - val_accuracy: 0.9231\n",
      "Epoch 20/50\n",
      "20/20 [==============================] - 0s 22ms/step - loss: 0.0077 - accuracy: 0.9911 - val_loss: 0.0456 - val_accuracy: 0.9232\n",
      "Epoch 21/50\n",
      "20/20 [==============================] - 0s 21ms/step - loss: 0.0070 - accuracy: 0.9918 - val_loss: 0.0458 - val_accuracy: 0.9231\n",
      "Epoch 22/50\n",
      "20/20 [==============================] - 0s 21ms/step - loss: 0.0063 - accuracy: 0.9927 - val_loss: 0.0461 - val_accuracy: 0.9235\n",
      "Epoch 23/50\n",
      "20/20 [==============================] - 0s 20ms/step - loss: 0.0058 - accuracy: 0.9936 - val_loss: 0.0464 - val_accuracy: 0.9229\n",
      "Epoch 24/50\n",
      "20/20 [==============================] - 0s 23ms/step - loss: 0.0053 - accuracy: 0.9943 - val_loss: 0.0468 - val_accuracy: 0.9230\n",
      "Epoch 25/50\n",
      "20/20 [==============================] - 0s 22ms/step - loss: 0.0049 - accuracy: 0.9949 - val_loss: 0.0472 - val_accuracy: 0.9242\n",
      "Epoch 26/50\n",
      "20/20 [==============================] - 0s 22ms/step - loss: 0.0044 - accuracy: 0.9954 - val_loss: 0.0476 - val_accuracy: 0.9237\n",
      "Epoch 27/50\n",
      "20/20 [==============================] - 0s 21ms/step - loss: 0.0040 - accuracy: 0.9960 - val_loss: 0.0480 - val_accuracy: 0.9231\n",
      "Epoch 28/50\n",
      "20/20 [==============================] - 0s 23ms/step - loss: 0.0037 - accuracy: 0.9964 - val_loss: 0.0487 - val_accuracy: 0.9242\n",
      "Epoch 29/50\n",
      "20/20 [==============================] - 0s 22ms/step - loss: 0.0034 - accuracy: 0.9968 - val_loss: 0.0494 - val_accuracy: 0.9228\n",
      "Epoch 30/50\n",
      "20/20 [==============================] - 0s 22ms/step - loss: 0.0031 - accuracy: 0.9973 - val_loss: 0.0496 - val_accuracy: 0.9231\n",
      "Epoch 31/50\n",
      "20/20 [==============================] - 0s 22ms/step - loss: 0.0028 - accuracy: 0.9977 - val_loss: 0.0502 - val_accuracy: 0.9227\n",
      "Epoch 32/50\n",
      "20/20 [==============================] - 0s 22ms/step - loss: 0.0026 - accuracy: 0.9982 - val_loss: 0.0503 - val_accuracy: 0.9223\n",
      "Epoch 33/50\n",
      "20/20 [==============================] - 0s 20ms/step - loss: 0.0024 - accuracy: 0.9985 - val_loss: 0.0508 - val_accuracy: 0.9223\n",
      "Epoch 34/50\n",
      "20/20 [==============================] - 0s 22ms/step - loss: 0.0022 - accuracy: 0.9986 - val_loss: 0.0516 - val_accuracy: 0.9218\n",
      "Epoch 35/50\n",
      "20/20 [==============================] - 0s 22ms/step - loss: 0.0020 - accuracy: 0.9988 - val_loss: 0.0520 - val_accuracy: 0.9217\n",
      "Epoch 36/50\n",
      "20/20 [==============================] - 0s 21ms/step - loss: 0.0018 - accuracy: 0.9990 - val_loss: 0.0522 - val_accuracy: 0.9217\n",
      "Epoch 37/50\n",
      "20/20 [==============================] - 0s 22ms/step - loss: 0.0017 - accuracy: 0.9991 - val_loss: 0.0529 - val_accuracy: 0.9210\n",
      "Epoch 38/50\n",
      "20/20 [==============================] - 0s 21ms/step - loss: 0.0016 - accuracy: 0.9992 - val_loss: 0.0529 - val_accuracy: 0.9211\n",
      "Epoch 39/50\n",
      "20/20 [==============================] - 0s 22ms/step - loss: 0.0014 - accuracy: 0.9994 - val_loss: 0.0540 - val_accuracy: 0.9202\n",
      "Epoch 40/50\n",
      "20/20 [==============================] - 0s 22ms/step - loss: 0.0013 - accuracy: 0.9995 - val_loss: 0.0544 - val_accuracy: 0.9201\n",
      "Epoch 41/50\n",
      "20/20 [==============================] - 0s 20ms/step - loss: 0.0012 - accuracy: 0.9996 - val_loss: 0.0543 - val_accuracy: 0.9206\n",
      "Epoch 42/50\n",
      "20/20 [==============================] - 0s 21ms/step - loss: 0.0012 - accuracy: 0.9997 - val_loss: 0.0548 - val_accuracy: 0.9199\n",
      "Epoch 43/50\n",
      "20/20 [==============================] - 0s 20ms/step - loss: 0.0011 - accuracy: 0.9997 - val_loss: 0.0553 - val_accuracy: 0.9192\n",
      "Epoch 44/50\n",
      "20/20 [==============================] - 0s 20ms/step - loss: 0.0010 - accuracy: 0.9997 - val_loss: 0.0554 - val_accuracy: 0.9197\n",
      "Epoch 45/50\n",
      "20/20 [==============================] - 0s 22ms/step - loss: 9.5648e-04 - accuracy: 0.9997 - val_loss: 0.0560 - val_accuracy: 0.9197\n",
      "Epoch 46/50\n",
      "20/20 [==============================] - 0s 21ms/step - loss: 8.9818e-04 - accuracy: 0.9998 - val_loss: 0.0558 - val_accuracy: 0.9200\n",
      "Epoch 47/50\n",
      "20/20 [==============================] - 0s 21ms/step - loss: 8.4441e-04 - accuracy: 0.9998 - val_loss: 0.0563 - val_accuracy: 0.9194\n",
      "Epoch 48/50\n",
      "20/20 [==============================] - 0s 22ms/step - loss: 7.9910e-04 - accuracy: 0.9998 - val_loss: 0.0565 - val_accuracy: 0.9195\n",
      "Epoch 49/50\n",
      "20/20 [==============================] - 0s 22ms/step - loss: 7.6081e-04 - accuracy: 0.9998 - val_loss: 0.0574 - val_accuracy: 0.9189\n",
      "Epoch 50/50\n",
      "20/20 [==============================] - 0s 22ms/step - loss: 7.1711e-04 - accuracy: 0.9998 - val_loss: 0.0570 - val_accuracy: 0.9192\n",
      "25/25 [==============================] - 0s 5ms/step - loss: 0.0538 - accuracy: 0.9210\n",
      "테스트 정확도: 0.9210\n"
     ]
    },
    {
     "data": {
      "image/png": "[encoded data removed]",
      "text/plain": [
       "<Figure size 864x288 with 2 Axes>"
      ]
     },
     "metadata": {
      "needs_background": "light"
     },
     "output_type": "display_data"
    }
   ],
   "source": [
    "from tensorflow.keras.models import Sequential\n",
    "from tensorflow.keras.layers import Dense, LSTM, InputLayer, Embedding\n",
    "from tensorflow.keras.layers import Bidirectional, TimeDistributed\n",
    "from tensorflow.keras.optimizers import Adam\n",
    "\n",
    "embedding_dim = 128\n",
    "hidden_units = 128\n",
    "\n",
    "model = Sequential()\n",
    "model.add(Embedding(vocab_size, embedding_dim, mask_zero=True))\n",
    "model.add(Bidirectional(LSTM(hidden_units, return_sequences=True)))\n",
    "model.add(TimeDistributed(Dense(tag_size, activation=('softmax'))))\n",
    "\n",
    "model.compile(loss='sparse_categorical_crossentropy', \n",
    "              optimizer=Adam(0.001), \n",
    "              metrics=['accuracy'])\n",
    "history= model.fit(X_train, y_train, batch_size=128, \n",
    "                   epochs=50, validation_data=(X_val, y_val))\n",
    "print(\"테스트 정확도: %.4f\" % (model.evaluate(X_test, y_test)[1]))\n",
    "\n",
    "def vis(history,name) :\n",
    "    plt.title(f\"{name.upper()}\")\n",
    "    plt.xlabel('epochs')\n",
    "    plt.ylabel(f\"{name.lower()}\")\n",
    "    value = history.history.get(name)\n",
    "    val_value = history.history.get(f\"val_{name}\",None)\n",
    "    epochs = range(1, len(value)+1)\n",
    "    plt.plot(epochs, value, 'b-', label=f'training {name}')\n",
    "    if val_value is not None :\n",
    "        plt.plot(epochs, val_value, 'r:', label=f'validation {name}')\n",
    "    plt.legend(loc='upper center', bbox_to_anchor=(0.05, 1.2) , \n",
    "               fontsize=10 , ncol=1)\n",
    "    \n",
    "def plot_history(history) :\n",
    "    key_value = list(set([i.split(\"val_\")[-1] for i in list(history.history.keys())]))\n",
    "    plt.figure(figsize=(12, 4))\n",
    "    for idx , key in enumerate(key_value) :\n",
    "        plt.subplot(1, len(key_value), idx+1)\n",
    "        vis(history, key)\n",
    "    plt.tight_layout()\n",
    "    plt.show()\n",
    "\n",
    "plot_history(history)\n",
    "\n"
   ]
  },
  {
   "cell_type": "code",
   "execution_count": 14,
   "id": "1de5fdd6",
   "metadata": {},
   "outputs": [
    {
     "name": "stdout",
     "output_type": "stream",
     "text": [
      "단어             |실제값  |예측값\n",
      "-----------------------------------\n",
      "some             : DT      DT\n",
      "of               : IN      IN\n",
      "the              : DT      DT\n",
      "surge            : NN      NN\n",
      "in               : IN      IN\n",
      "the              : DT      DT\n",
      "stock            : NN      NN\n",
      "'s               : POS     POS\n",
      "price            : NN      NN\n",
      "appeared         : VBD     VBD\n",
      "*-1              : -NONE-  -NONE-\n",
      "to               : TO      TO\n",
      "be               : VB      VB\n",
      "linked           : VBN     VBN\n",
      "*-39             : -NONE-  -NONE-\n",
      "to               : TO      TO\n",
      "revived          : VBN     VB\n",
      "takeover         : NN      NN\n",
      "speculation      : NN      NN\n",
      ",                : ,       ,\n",
      "which            : WDT     WDT\n",
      "*t*-28           : -NONE-  -NONE-\n",
      "has              : VBZ     VBZ\n",
      "contributed      : VBN     VBN\n",
      "to               : TO      TO\n",
      "volatility       : NN      NN\n",
      "of               : IN      IN\n",
      "campbell         : NNP     NNP\n",
      "shares           : NNS     NNS\n",
      "in               : IN      IN\n",
      "recent           : JJ      JJ\n",
      "months           : NNS     NNS\n",
      ".                : .       .\n"
     ]
    }
   ],
   "source": [
    "index_to_word = src_tokenizer.index_word\n",
    "index_to_tag = tar_tokenizer.index_word\n",
    "\n",
    "i = 30 # 확인하고 싶은 테스트용 샘플의 인덱스.\n",
    "\n",
    "# 입력한 테스트용 샘플에 대해서 예측값 y를 리턴\n",
    "y_predicted = model.predict(np.array([X_test[i]])) \n",
    "\n",
    "# 확률 벡터를 정수 레이블로 변환.\n",
    "y_predicted = np.argmax(y_predicted, axis=-1) \n",
    "\n",
    "print(\"{:15}|{:5}|{}\".format(\"단어\", \"실제값\", \"예측값\"))\n",
    "print(35 * \"-\")\n",
    "\n",
    "for word, tag, pred in zip(X_test[i], y_test[i], y_predicted[0]):\n",
    "    if word != 0: # PAD값은 제외함.\n",
    "        print(\"{:17}: {:7} {}\".format(index_to_word[word], \n",
    "                                      index_to_tag[tag].upper(), \n",
    "                                      index_to_tag[pred].upper()))"
   ]
  },
  {
   "cell_type": "code",
   "execution_count": null,
   "id": "456a0f7a",
   "metadata": {},
   "outputs": [],
   "source": []
  }
 ],
 "metadata": {
  "kernelspec": {
   "display_name": "Python 3 (ipykernel)",
   "language": "python",
   "name": "python3"
  },
  "language_info": {
   "codemirror_mode": {
    "name": "ipython",
    "version": 3
   },
   "file_extension": ".py",
   "mimetype": "text/x-python",
   "name": "python",
   "nbconvert_exporter": "python",
   "pygments_lexer": "ipython3",
   "version": "3.8.13"
  }
 },
 "nbformat": 4,
 "nbformat_minor": 5
}
