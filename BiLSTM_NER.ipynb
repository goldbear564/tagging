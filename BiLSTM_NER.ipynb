{
 "cells": [
  {
   "cell_type": "code",
   "execution_count": 1,
   "id": "d10085b2",
   "metadata": {},
   "outputs": [],
   "source": [
    "import pandas as pd\n",
    "import numpy as np\n",
    "import matplotlib.pyplot as plt\n",
    "import urllib.request\n",
    "from tensorflow.keras.preprocessing.text import Tokenizer\n",
    "from tensorflow.keras.preprocessing.sequence import pad_sequences\n",
    "from sklearn.model_selection import train_test_split\n",
    "from tensorflow.keras.utils import to_categorical"
   ]
  },
  {
   "cell_type": "code",
   "execution_count": 2,
   "id": "9fd56797",
   "metadata": {},
   "outputs": [],
   "source": [
    "data_url='https://raw.githubusercontent.com/ukairia777/tensorflow-nlp-tutorial/main/12.%20RNN%20Sequence%20Labeling/dataset/ner_dataset.csv'\n",
    "urllib.request.urlretrieve(data_url, filename=\"ner_dataset.csv\")\n",
    "data = pd.read_csv(\"ner_dataset.csv\", encoding=\"latin1\")"
   ]
  },
  {
   "cell_type": "code",
   "execution_count": 3,
   "id": "ec7756cc",
   "metadata": {
    "scrolled": true
   },
   "outputs": [
    {
     "data": {
      "text/html": [
       "<div>\n",
       "<style scoped>\n",
       "    .dataframe tbody tr th:only-of-type {\n",
       "        vertical-align: middle;\n",
       "    }\n",
       "\n",
       "    .dataframe tbody tr th {\n",
       "        vertical-align: top;\n",
       "    }\n",
       "\n",
       "    .dataframe thead th {\n",
       "        text-align: right;\n",
       "    }\n",
       "</style>\n",
       "<table border=\"1\" class=\"dataframe\">\n",
       "  <thead>\n",
       "    <tr style=\"text-align: right;\">\n",
       "      <th></th>\n",
       "      <th>Sentence #</th>\n",
       "      <th>Word</th>\n",
       "      <th>POS</th>\n",
       "      <th>Tag</th>\n",
       "    </tr>\n",
       "  </thead>\n",
       "  <tbody>\n",
       "    <tr>\n",
       "      <th>0</th>\n",
       "      <td>Sentence: 1</td>\n",
       "      <td>Thousands</td>\n",
       "      <td>NNS</td>\n",
       "      <td>O</td>\n",
       "    </tr>\n",
       "    <tr>\n",
       "      <th>1</th>\n",
       "      <td>NaN</td>\n",
       "      <td>of</td>\n",
       "      <td>IN</td>\n",
       "      <td>O</td>\n",
       "    </tr>\n",
       "    <tr>\n",
       "      <th>2</th>\n",
       "      <td>NaN</td>\n",
       "      <td>demonstrators</td>\n",
       "      <td>NNS</td>\n",
       "      <td>O</td>\n",
       "    </tr>\n",
       "    <tr>\n",
       "      <th>3</th>\n",
       "      <td>NaN</td>\n",
       "      <td>have</td>\n",
       "      <td>VBP</td>\n",
       "      <td>O</td>\n",
       "    </tr>\n",
       "    <tr>\n",
       "      <th>4</th>\n",
       "      <td>NaN</td>\n",
       "      <td>marched</td>\n",
       "      <td>VBN</td>\n",
       "      <td>O</td>\n",
       "    </tr>\n",
       "  </tbody>\n",
       "</table>\n",
       "</div>"
      ],
      "text/plain": [
       "    Sentence #           Word  POS Tag\n",
       "0  Sentence: 1      Thousands  NNS   O\n",
       "1          NaN             of   IN   O\n",
       "2          NaN  demonstrators  NNS   O\n",
       "3          NaN           have  VBP   O\n",
       "4          NaN        marched  VBN   O"
      ]
     },
     "execution_count": 3,
     "metadata": {},
     "output_type": "execute_result"
    }
   ],
   "source": [
    "data[:5]"
   ]
  },
  {
   "cell_type": "code",
   "execution_count": 4,
   "id": "e4871227",
   "metadata": {},
   "outputs": [
    {
     "name": "stdout",
     "output_type": "stream",
     "text": [
      "데이터프레임 행의 수: 1048575\n"
     ]
    }
   ],
   "source": [
    "print(f'데이터프레임 행의 수: {len(data)}')"
   ]
  },
  {
   "cell_type": "code",
   "execution_count": 5,
   "id": "ba3eb53e",
   "metadata": {},
   "outputs": [
    {
     "name": "stdout",
     "output_type": "stream",
     "text": [
      "어떤 열에 Null값이 있는지 출력\n",
      "==============================\n"
     ]
    },
    {
     "data": {
      "text/plain": [
       "Sentence #    1000616\n",
       "Word                0\n",
       "POS                 0\n",
       "Tag                 0\n",
       "dtype: int64"
      ]
     },
     "execution_count": 5,
     "metadata": {},
     "output_type": "execute_result"
    }
   ],
   "source": [
    "print('어떤 열에 Null값이 있는지 출력')\n",
    "print('==============================')\n",
    "data.isnull().sum()"
   ]
  },
  {
   "cell_type": "code",
   "execution_count": 6,
   "id": "5e9aa4a4",
   "metadata": {},
   "outputs": [
    {
     "name": "stdout",
     "output_type": "stream",
     "text": [
      "sentence # 열의 중복을 제거한 값의 개수: 47959\n",
      "Word 열의 중복을 제거한 값의 개수: 35178\n",
      "Tag 열의 중복을 제거한 값의 개수: 17\n"
     ]
    }
   ],
   "source": [
    "print(f\"sentence # 열의 중복을 제거한 값의 개수: {data['Sentence #'].nunique()}\")\n",
    "print(f'Word 열의 중복을 제거한 값의 개수: {data.Word.nunique()}')\n",
    "print(f'Tag 열의 중복을 제거한 값의 개수: {data.Tag.nunique()}')"
   ]
  },
  {
   "cell_type": "code",
   "execution_count": 7,
   "id": "f03b17dc",
   "metadata": {},
   "outputs": [
    {
     "name": "stdout",
     "output_type": "stream",
     "text": [
      "Tag 열의 각각의 값의 개수 카운트\n",
      "================================\n",
      "      Tag   count\n",
      "0   B-art     402\n",
      "1   B-eve     308\n",
      "2   B-geo   37644\n",
      "3   B-gpe   15870\n",
      "4   B-nat     201\n",
      "5   B-org   20143\n",
      "6   B-per   16990\n",
      "7   B-tim   20333\n",
      "8   I-art     297\n",
      "9   I-eve     253\n",
      "10  I-geo    7414\n",
      "11  I-gpe     198\n",
      "12  I-nat      51\n",
      "13  I-org   16784\n",
      "14  I-per   17251\n",
      "15  I-tim    6528\n",
      "16      O  887908\n"
     ]
    }
   ],
   "source": [
    "print('Tag 열의 각각의 값의 개수 카운트')\n",
    "print('================================')\n",
    "print(data.groupby('Tag').size().reset_index(name='count'))"
   ]
  },
  {
   "cell_type": "code",
   "execution_count": 8,
   "id": "0b7f0317",
   "metadata": {},
   "outputs": [
    {
     "name": "stdout",
     "output_type": "stream",
     "text": [
      "======변경 전======\n",
      "        Sentence #       Word  POS Tag\n",
      "1048570        NaN       they  PRP   O\n",
      "1048571        NaN  responded  VBD   O\n",
      "1048572        NaN         to   TO   O\n",
      "1048573        NaN        the   DT   O\n",
      "1048574        NaN     attack   NN   O\n",
      "======변경 후======\n",
      "              Sentence #       Word  POS Tag\n",
      "1048570  Sentence: 47959       they  PRP   O\n",
      "1048571  Sentence: 47959  responded  VBD   O\n",
      "1048572  Sentence: 47959         to   TO   O\n",
      "1048573  Sentence: 47959        the   DT   O\n",
      "1048574  Sentence: 47959     attack   NN   O\n"
     ]
    }
   ],
   "source": [
    "print('======변경 전======')\n",
    "print(data.tail())\n",
    "data = data.fillna(method=\"ffill\")\n",
    "print('======변경 후======')\n",
    "print(data.tail())"
   ]
  },
  {
   "cell_type": "code",
   "execution_count": 9,
   "id": "351816be",
   "metadata": {},
   "outputs": [
    {
     "name": "stdout",
     "output_type": "stream",
     "text": [
      "어떤 열에 Null값이 있는지 출력\n",
      "==============================\n"
     ]
    },
    {
     "data": {
      "text/plain": [
       "Sentence #    0\n",
       "Word          0\n",
       "POS           0\n",
       "Tag           0\n",
       "dtype: int64"
      ]
     },
     "execution_count": 9,
     "metadata": {},
     "output_type": "execute_result"
    }
   ],
   "source": [
    "print('어떤 열에 Null값이 있는지 출력')\n",
    "print('==============================')\n",
    "data.isnull().sum()\n",
    "#print(f'데이터에 Null 값이 있는지 유무: {data.isnull().values.any()}')"
   ]
  },
  {
   "cell_type": "code",
   "execution_count": 10,
   "id": "47bf0fee",
   "metadata": {},
   "outputs": [
    {
     "name": "stdout",
     "output_type": "stream",
     "text": [
      "Word 열의 중복을 제거한 값의 개수: 31817\n",
      "    Sentence #           Word  POS Tag\n",
      "0  Sentence: 1      thousands  NNS   O\n",
      "1  Sentence: 1             of   IN   O\n",
      "2  Sentence: 1  demonstrators  NNS   O\n",
      "3  Sentence: 1           have  VBP   O\n",
      "4  Sentence: 1        marched  VBN   O\n"
     ]
    }
   ],
   "source": [
    "data['Word'] = data['Word'].str.lower()\n",
    "print(f'Word 열의 중복을 제거한 값의 개수: {data.Word.nunique()}')\n",
    "print(data[:5])"
   ]
  },
  {
   "cell_type": "code",
   "execution_count": 11,
   "id": "466fecff",
   "metadata": {
    "scrolled": false
   },
   "outputs": [
    {
     "name": "stdout",
     "output_type": "stream",
     "text": [
      "전체 샘플 개수: 47959\n",
      "[('thousands', 'O'), ('of', 'O'), ('demonstrators', 'O'), ('have', 'O'), ('marched', 'O'), ('through', 'O'), ('london', 'B-geo'), ('to', 'O'), ('protest', 'O'), ('the', 'O'), ('war', 'O'), ('in', 'O'), ('iraq', 'B-geo'), ('and', 'O'), ('demand', 'O'), ('the', 'O'), ('withdrawal', 'O'), ('of', 'O'), ('british', 'B-gpe'), ('troops', 'O'), ('from', 'O'), ('that', 'O'), ('country', 'O'), ('.', 'O')]\n"
     ]
    }
   ],
   "source": [
    "#단어와 태깅 정보를 묶어야 함\n",
    "\n",
    "func = lambda temp: [(w, t) for w, t in zip(temp[\"Word\"].values.tolist(), temp[\"Tag\"].values.tolist())]\n",
    "tagged_sentences=[t for t in data.groupby(\"Sentence #\").apply(func)]\n",
    "print(f'전체 샘플 개수: {len(tagged_sentences)}')\n",
    "print(tagged_sentences[0]) # 첫번째 샘플 출력"
   ]
  },
  {
   "cell_type": "code",
   "execution_count": 12,
   "id": "51d4aca8",
   "metadata": {},
   "outputs": [
    {
     "name": "stdout",
     "output_type": "stream",
     "text": [
      "['thousands', 'of', 'demonstrators', 'have', 'marched', 'through', 'london', 'to', 'protest', 'the', 'war', 'in', 'iraq', 'and', 'demand', 'the', 'withdrawal', 'of', 'british', 'troops', 'from', 'that', 'country', '.']\n",
      "['O', 'O', 'O', 'O', 'O', 'O', 'B-geo', 'O', 'O', 'O', 'O', 'O', 'B-geo', 'O', 'O', 'O', 'O', 'O', 'B-gpe', 'O', 'O', 'O', 'O', 'O']\n"
     ]
    }
   ],
   "source": [
    "#단어와 태깅 정보를 분리\n",
    "\n",
    "sentences, ner_tags = [], [] \n",
    "\n",
    "# 47,959개의 문장 샘플을 1개씩 불러온다.\n",
    "for tagged_sentence in tagged_sentences: \n",
    "    # 각 샘플에서 단어들은 sentence에 개체명 태깅 정보들은 tag_info에 저장.\n",
    "    sentence, tag_info = zip(*tagged_sentence) \n",
    "    sentences.append(list(sentence)) # 각 샘플에서 단어 정보만 저장한다.\n",
    "    ner_tags.append(list(tag_info)) # 각 샘플에서 개체명 태깅 정보만 저장한다.\n",
    "\n",
    "print(sentences[0])\n",
    "print(ner_tags[0])"
   ]
  },
  {
   "cell_type": "code",
   "execution_count": 13,
   "id": "0ddc5243",
   "metadata": {},
   "outputs": [
    {
     "name": "stdout",
     "output_type": "stream",
     "text": [
      "샘플의 최대 길이: 104\n",
      "샘플의 평균 길이: 21.863987989741236\n"
     ]
    },
    {
     "data": {
      "image/png": "[encoded data removed]",
      "text/plain": [
       "<Figure size 432x288 with 1 Axes>"
      ]
     },
     "metadata": {
      "needs_background": "light"
     },
     "output_type": "display_data"
    }
   ],
   "source": [
    "print(f'샘플의 최대 길이: {max(len(l) for l in sentences)}')\n",
    "print(f'샘플의 평균 길이: {sum(map(len, sentences))/len(sentences)}')\n",
    "plt.hist([len(s) for s in sentences], bins=50)\n",
    "plt.xlabel('length of samples')\n",
    "plt.ylabel('number of samples')\n",
    "plt.show()"
   ]
  },
  {
   "cell_type": "code",
   "execution_count": 14,
   "id": "f0124c7e",
   "metadata": {},
   "outputs": [
    {
     "name": "stdout",
     "output_type": "stream",
     "text": [
      "단어 집합의 크기: 31819\n",
      "개체명 태깅 정보 집합의 크기: 18\n",
      "단어 OOV의 인덱스: 1\n"
     ]
    }
   ],
   "source": [
    "# 모든 단어를 사용하며 인덱스 1에는 단어 'OOV'를 할당.\n",
    "src_tokenizer = Tokenizer(oov_token='OOV')\n",
    "# 태깅 정보들은 내부적으로 대문자를 유지한 채 저장\n",
    "tar_tokenizer = Tokenizer(lower=False)\n",
    "\n",
    "src_tokenizer.fit_on_texts(sentences)\n",
    "tar_tokenizer.fit_on_texts(ner_tags)\n",
    "\n",
    "vocab_size = len(src_tokenizer.word_index) + 1\n",
    "tag_size = len(tar_tokenizer.word_index) + 1\n",
    "print(f'단어 집합의 크기: {vocab_size}')\n",
    "print(f'개체명 태깅 정보 집합의 크기: {tag_size}')\n",
    "print(f'단어 OOV의 인덱스: {src_tokenizer.word_index[\"OOV\"]}')\n",
    "\n",
    "#정수 인코딩\n",
    "X_data = src_tokenizer.texts_to_sequences(sentences)\n",
    "y_data = tar_tokenizer.texts_to_sequences(ner_tags)\n"
   ]
  },
  {
   "cell_type": "code",
   "execution_count": 15,
   "id": "1f605373",
   "metadata": {},
   "outputs": [
    {
     "name": "stdout",
     "output_type": "stream",
     "text": [
      "[254, 6, 967, 16, 1795, 238, 468, 7, 523, 2, 129, 5, 61, 9, 571, 2, 833, 6, 186, 90, 22, 15, 56, 3]\n",
      "[1, 1, 1, 1, 1, 1, 2, 1, 1, 1, 1, 1, 2, 1, 1, 1, 1, 1, 8, 1, 1, 1, 1, 1]\n"
     ]
    }
   ],
   "source": [
    "print(X_data[0])\n",
    "print(y_data[0])"
   ]
  },
  {
   "cell_type": "code",
   "execution_count": 16,
   "id": "e7c226e5",
   "metadata": {},
   "outputs": [
    {
     "name": "stdout",
     "output_type": "stream",
     "text": [
      "{1: 'O', 2: 'B-geo', 3: 'B-tim', 4: 'B-org', 5: 'I-per', 6: 'B-per', 7: 'I-org', 8: 'B-gpe', 9: 'I-geo', 10: 'I-tim', 11: 'B-art', 12: 'B-eve', 13: 'I-art', 14: 'I-eve', 15: 'B-nat', 16: 'I-gpe', 17: 'I-nat', 0: 'PAD'}\n"
     ]
    }
   ],
   "source": [
    "word_to_index = src_tokenizer.word_index\n",
    "index_to_word = src_tokenizer.index_word\n",
    "ner_to_index = tar_tokenizer.word_index\n",
    "index_to_ner = tar_tokenizer.index_word\n",
    "index_to_ner[0] = 'PAD'\n",
    "\n",
    "print(index_to_ner)"
   ]
  },
  {
   "cell_type": "code",
   "execution_count": 17,
   "id": "d7a1f28a",
   "metadata": {},
   "outputs": [
    {
     "name": "stdout",
     "output_type": "stream",
     "text": [
      "기존 문장: ['thousands', 'of', 'demonstrators', 'have', 'marched', 'through', 'london', 'to', 'protest', 'the', 'war', 'in', 'iraq', 'and', 'demand', 'the', 'withdrawal', 'of', 'british', 'troops', 'from', 'that', 'country', '.']\n",
      "디코딩 문장: ['thousands', 'of', 'demonstrators', 'have', 'marched', 'through', 'london', 'to', 'protest', 'the', 'war', 'in', 'iraq', 'and', 'demand', 'the', 'withdrawal', 'of', 'british', 'troops', 'from', 'that', 'country', '.']\n"
     ]
    }
   ],
   "source": [
    "decoded = []\n",
    "for index in X_data[0] : # 첫번째 샘플 안의 인덱스들에 대해서\n",
    "    decoded.append(index_to_word[index]) # 다시 단어로 변환\n",
    "\n",
    "print(f'기존 문장: {sentences[0]}')\n",
    "print(f'디코딩 문장: {decoded}')"
   ]
  },
  {
   "cell_type": "code",
   "execution_count": 18,
   "id": "80f6984b",
   "metadata": {},
   "outputs": [
    {
     "name": "stdout",
     "output_type": "stream",
     "text": [
      "훈련 샘플 문장의 크기: (28775, 70)\n",
      "훈련 샘플 레이블(정수 인코딩)의 크기: (28775, 70)\n",
      "훈련 샘플 레이블(원-핫 인코딩)의 크기: (28775, 70, 18)\n",
      "검증 샘플 문장의 크기: (23980, 70)\n",
      "검증 샘플 레이블(정수 인코딩)의 크기: (23980, 70)\n",
      "검증 샘플 레이블(원-핫 인코딩)의 크기: (23980, 70, 18)\n",
      "테스트 샘플 문장의 크기: (23979, 70)\n",
      "테스트 샘플 레이블(정수 인코딩)의 크기: (23979, 70)\n",
      "테스트 샘플 레이블(원-핫 인코딩)의 크기: (23979, 70, 18)\n"
     ]
    }
   ],
   "source": [
    "max_len = 70\n",
    "X_data = pad_sequences(X_data, padding='post', maxlen=max_len)\n",
    "y_data = pad_sequences(y_data, padding='post', maxlen=max_len)\n",
    "\n",
    "X_train, X_test, y_train_int, y_test_int = train_test_split(X_data, y_data, \n",
    "                                                            test_size=.4, \n",
    "                                                            random_state=777)\n",
    "X_test, X_val, y_test_int, y_val_int = train_test_split(X_data, y_data, \n",
    "                                                            test_size=.5, \n",
    "                                                            random_state=777)\n",
    "\n",
    "#레이블에 해당하는 태깅 정보를 원-핫 인코딩 적용\n",
    "y_train = to_categorical(y_train_int, num_classes=tag_size)\n",
    "y_val = to_categorical(y_val_int, num_classes=tag_size)\n",
    "y_test = to_categorical(y_test_int, num_classes=tag_size)\n",
    "\n",
    "print(f'훈련 샘플 문장의 크기: {X_train.shape}')\n",
    "print(f'훈련 샘플 레이블(정수 인코딩)의 크기: {y_train_int.shape}')\n",
    "print(f'훈련 샘플 레이블(원-핫 인코딩)의 크기: {y_train.shape}')\n",
    "print(f'검증 샘플 문장의 크기: {X_val.shape}')\n",
    "print(f'검증 샘플 레이블(정수 인코딩)의 크기: {y_val_int.shape}')\n",
    "print(f'검증 샘플 레이블(원-핫 인코딩)의 크기: {y_val.shape}')\n",
    "\n",
    "print(f'테스트 샘플 문장의 크기: {X_test.shape}')\n",
    "print(f'테스트 샘플 레이블(정수 인코딩)의 크기: {y_test_int.shape}')\n",
    "print(f'테스트 샘플 레이블(원-핫 인코딩)의 크기: {y_test.shape}')\n"
   ]
  },
  {
   "cell_type": "code",
   "execution_count": 19,
   "id": "f5bcbb7d",
   "metadata": {
    "scrolled": false
   },
   "outputs": [
    {
     "name": "stderr",
     "output_type": "stream",
     "text": [
      "2022-10-06 15:17:34.938930: I tensorflow/stream_executor/cuda/cuda_gpu_executor.cc:936] successful NUMA node read from SysFS had negative value (-1), but there must be at least one NUMA node, so returning NUMA node zero\n",
      "2022-10-06 15:17:34.944162: I tensorflow/stream_executor/cuda/cuda_gpu_executor.cc:936] successful NUMA node read from SysFS had negative value (-1), but there must be at least one NUMA node, so returning NUMA node zero\n",
      "2022-10-06 15:17:34.944529: I tensorflow/stream_executor/cuda/cuda_gpu_executor.cc:936] successful NUMA node read from SysFS had negative value (-1), but there must be at least one NUMA node, so returning NUMA node zero\n",
      "2022-10-06 15:17:34.945226: I tensorflow/core/platform/cpu_feature_guard.cc:151] This TensorFlow binary is optimized with oneAPI Deep Neural Network Library (oneDNN) to use the following CPU instructions in performance-critical operations:  AVX2 FMA\n",
      "To enable them in other operations, rebuild TensorFlow with the appropriate compiler flags.\n",
      "2022-10-06 15:17:34.945576: I tensorflow/stream_executor/cuda/cuda_gpu_executor.cc:936] successful NUMA node read from SysFS had negative value (-1), but there must be at least one NUMA node, so returning NUMA node zero\n",
      "2022-10-06 15:17:34.945902: I tensorflow/stream_executor/cuda/cuda_gpu_executor.cc:936] successful NUMA node read from SysFS had negative value (-1), but there must be at least one NUMA node, so returning NUMA node zero\n",
      "2022-10-06 15:17:34.946214: I tensorflow/stream_executor/cuda/cuda_gpu_executor.cc:936] successful NUMA node read from SysFS had negative value (-1), but there must be at least one NUMA node, so returning NUMA node zero\n",
      "2022-10-06 15:17:35.391589: I tensorflow/stream_executor/cuda/cuda_gpu_executor.cc:936] successful NUMA node read from SysFS had negative value (-1), but there must be at least one NUMA node, so returning NUMA node zero\n",
      "2022-10-06 15:17:35.391975: I tensorflow/stream_executor/cuda/cuda_gpu_executor.cc:936] successful NUMA node read from SysFS had negative value (-1), but there must be at least one NUMA node, so returning NUMA node zero\n",
      "2022-10-06 15:17:35.392282: I tensorflow/stream_executor/cuda/cuda_gpu_executor.cc:936] successful NUMA node read from SysFS had negative value (-1), but there must be at least one NUMA node, so returning NUMA node zero\n",
      "2022-10-06 15:17:35.392618: I tensorflow/core/common_runtime/gpu/gpu_device.cc:1525] Created device /job:localhost/replica:0/task:0/device:GPU:0 with 6434 MB memory:  -> device: 0, name: NVIDIA GeForce RTX 2080 SUPER, pci bus id: 0000:02:00.0, compute capability: 7.5\n"
     ]
    },
    {
     "name": "stdout",
     "output_type": "stream",
     "text": [
      "Epoch 1/30\n"
     ]
    },
    {
     "name": "stderr",
     "output_type": "stream",
     "text": [
      "2022-10-06 15:17:41.987710: I tensorflow/stream_executor/cuda/cuda_dnn.cc:368] Loaded cuDNN version 8100\n"
     ]
    },
    {
     "name": "stdout",
     "output_type": "stream",
     "text": [
      "225/225 [==============================] - 13s 31ms/step - loss: 0.1927 - accuracy: 0.8654 - val_loss: 0.0928 - val_accuracy: 0.9213\n",
      "Epoch 2/30\n",
      "225/225 [==============================] - 5s 22ms/step - loss: 0.0634 - accuracy: 0.9431 - val_loss: 0.0505 - val_accuracy: 0.9532\n",
      "Epoch 3/30\n",
      "225/225 [==============================] - 5s 22ms/step - loss: 0.0398 - accuracy: 0.9622 - val_loss: 0.0430 - val_accuracy: 0.9591\n",
      "Epoch 4/30\n",
      "225/225 [==============================] - 5s 22ms/step - loss: 0.0314 - accuracy: 0.9690 - val_loss: 0.0415 - val_accuracy: 0.9607\n",
      "Epoch 5/30\n",
      "225/225 [==============================] - 5s 22ms/step - loss: 0.0266 - accuracy: 0.9733 - val_loss: 0.0418 - val_accuracy: 0.9618\n",
      "Epoch 6/30\n",
      "225/225 [==============================] - 5s 22ms/step - loss: 0.0232 - accuracy: 0.9763 - val_loss: 0.0415 - val_accuracy: 0.9621\n",
      "Epoch 7/30\n",
      "225/225 [==============================] - 5s 22ms/step - loss: 0.0206 - accuracy: 0.9787 - val_loss: 0.0417 - val_accuracy: 0.9628\n",
      "Epoch 8/30\n",
      "225/225 [==============================] - 5s 22ms/step - loss: 0.0182 - accuracy: 0.9812 - val_loss: 0.0426 - val_accuracy: 0.9631\n",
      "Epoch 9/30\n",
      "225/225 [==============================] - 5s 22ms/step - loss: 0.0161 - accuracy: 0.9833 - val_loss: 0.0460 - val_accuracy: 0.9630\n",
      "Epoch 10/30\n",
      "225/225 [==============================] - 5s 21ms/step - loss: 0.0143 - accuracy: 0.9852 - val_loss: 0.0463 - val_accuracy: 0.9629\n",
      "Epoch 11/30\n",
      "225/225 [==============================] - 5s 23ms/step - loss: 0.0127 - accuracy: 0.9870 - val_loss: 0.0479 - val_accuracy: 0.9631\n",
      "Epoch 12/30\n",
      "225/225 [==============================] - 5s 22ms/step - loss: 0.0110 - accuracy: 0.9889 - val_loss: 0.0500 - val_accuracy: 0.9623\n",
      "Epoch 13/30\n",
      "225/225 [==============================] - 5s 22ms/step - loss: 0.0096 - accuracy: 0.9903 - val_loss: 0.0527 - val_accuracy: 0.9620\n",
      "Epoch 14/30\n",
      "225/225 [==============================] - 5s 22ms/step - loss: 0.0082 - accuracy: 0.9916 - val_loss: 0.0574 - val_accuracy: 0.9625\n",
      "Epoch 15/30\n",
      "225/225 [==============================] - 5s 21ms/step - loss: 0.0071 - accuracy: 0.9928 - val_loss: 0.0596 - val_accuracy: 0.9603\n",
      "Epoch 16/30\n",
      "225/225 [==============================] - 5s 22ms/step - loss: 0.0061 - accuracy: 0.9940 - val_loss: 0.0628 - val_accuracy: 0.9616\n",
      "Epoch 17/30\n",
      "225/225 [==============================] - 5s 22ms/step - loss: 0.0054 - accuracy: 0.9947 - val_loss: 0.0670 - val_accuracy: 0.9614\n",
      "Epoch 18/30\n",
      "225/225 [==============================] - 5s 21ms/step - loss: 0.0043 - accuracy: 0.9960 - val_loss: 0.0675 - val_accuracy: 0.9617\n",
      "Epoch 19/30\n",
      "225/225 [==============================] - 5s 22ms/step - loss: 0.0036 - accuracy: 0.9967 - val_loss: 0.0701 - val_accuracy: 0.9615\n",
      "Epoch 20/30\n",
      "225/225 [==============================] - 5s 21ms/step - loss: 0.0031 - accuracy: 0.9972 - val_loss: 0.0741 - val_accuracy: 0.9616\n",
      "Epoch 21/30\n",
      "225/225 [==============================] - 5s 21ms/step - loss: 0.0026 - accuracy: 0.9977 - val_loss: 0.0753 - val_accuracy: 0.9607\n",
      "Epoch 22/30\n",
      "225/225 [==============================] - 5s 21ms/step - loss: 0.0023 - accuracy: 0.9980 - val_loss: 0.0777 - val_accuracy: 0.9604\n",
      "Epoch 23/30\n",
      "225/225 [==============================] - 5s 21ms/step - loss: 0.0021 - accuracy: 0.9981 - val_loss: 0.0805 - val_accuracy: 0.9591\n",
      "Epoch 24/30\n",
      "225/225 [==============================] - 5s 22ms/step - loss: 0.0018 - accuracy: 0.9985 - val_loss: 0.0827 - val_accuracy: 0.9599\n",
      "Epoch 25/30\n",
      "225/225 [==============================] - 5s 20ms/step - loss: 0.0015 - accuracy: 0.9987 - val_loss: 0.0856 - val_accuracy: 0.9599\n",
      "Epoch 26/30\n",
      "225/225 [==============================] - 5s 21ms/step - loss: 0.0012 - accuracy: 0.9991 - val_loss: 0.0878 - val_accuracy: 0.9598\n",
      "Epoch 27/30\n",
      "225/225 [==============================] - 5s 21ms/step - loss: 0.0011 - accuracy: 0.9991 - val_loss: 0.0883 - val_accuracy: 0.9609\n",
      "Epoch 28/30\n",
      "225/225 [==============================] - 5s 20ms/step - loss: 9.2520e-04 - accuracy: 0.9993 - val_loss: 0.0923 - val_accuracy: 0.9590\n",
      "Epoch 29/30\n",
      "225/225 [==============================] - 5s 21ms/step - loss: 9.3427e-04 - accuracy: 0.9993 - val_loss: 0.0900 - val_accuracy: 0.9601\n",
      "Epoch 30/30\n",
      "225/225 [==============================] - 5s 21ms/step - loss: 9.0309e-04 - accuracy: 0.9993 - val_loss: 0.0934 - val_accuracy: 0.9592\n"
     ]
    }
   ],
   "source": [
    "from tensorflow.keras.models import Sequential\n",
    "from tensorflow.keras.layers import Dense, LSTM, InputLayer\n",
    "from tensorflow.keras.layers import Bidirectional, TimeDistributed, Embedding\n",
    "from tensorflow.keras.optimizers import Adam\n",
    "\n",
    "embedding_dim = 128\n",
    "hidden_units = 256\n",
    "\n",
    "model = Sequential()\n",
    "model.add(Embedding(vocab_size, embedding_dim, mask_zero=True))\n",
    "model.add(Bidirectional(LSTM(hidden_units, return_sequences=True)))\n",
    "model.add(TimeDistributed(Dense(tag_size, activation=('softmax'))))\n",
    "model.compile(loss='categorical_crossentropy', optimizer=Adam(0.001), \n",
    "              metrics=['accuracy'])\n",
    "\n",
    "history = model.fit(X_train, y_train, batch_size=128, epochs=30, \n",
    "                    validation_data=(X_val,y_val))"
   ]
  },
  {
   "cell_type": "code",
   "execution_count": 20,
   "id": "e83778c8",
   "metadata": {
    "scrolled": true
   },
   "outputs": [
    {
     "name": "stdout",
     "output_type": "stream",
     "text": [
      "750/750 [==============================] - 3s 4ms/step - loss: 9.3220e-04 - accuracy: 0.9992\n",
      "테스트 정확도: 0.9992\n"
     ]
    },
    {
     "data": {
      "image/png": "[encoded data removed]",
      "text/plain": [
       "<Figure size 864x288 with 2 Axes>"
      ]
     },
     "metadata": {
      "needs_background": "light"
     },
     "output_type": "display_data"
    }
   ],
   "source": [
    "def vis(history,name) :\n",
    "    plt.title(f\"{name.upper()}\")\n",
    "    plt.xlabel('epochs')\n",
    "    plt.ylabel(f\"{name.lower()}\")\n",
    "    value = history.history.get(name)\n",
    "    val_value = history.history.get(f\"val_{name}\",None)\n",
    "    epochs = range(1, len(value)+1)\n",
    "    plt.plot(epochs, value, 'b-', label=f'training {name}')\n",
    "    if val_value is not None :\n",
    "        plt.plot(epochs, val_value, 'r:', label=f'validation {name}')\n",
    "    plt.legend(loc='upper center', bbox_to_anchor=(0.05, 1.2) , \n",
    "               fontsize=10 , ncol=1)\n",
    "    \n",
    "def plot_history(history) :\n",
    "    key_value = list(set([i.split(\"val_\")[-1] for i in \n",
    "                          list(history.history.keys())]))\n",
    "    plt.figure(figsize=(12, 4))\n",
    "    for idx , key in enumerate(key_value) :\n",
    "        plt.subplot(1, len(key_value), idx+1)\n",
    "        vis(history, key)\n",
    "    plt.tight_layout()\n",
    "    plt.show()\n",
    "\n",
    "print(\"테스트 정확도: %.4f\" % (model.evaluate(X_test, y_test)[1]))\n",
    "\n",
    "plot_history(history)"
   ]
  },
  {
   "cell_type": "code",
   "execution_count": 21,
   "id": "7ce3b2d2",
   "metadata": {},
   "outputs": [
    {
     "name": "stdout",
     "output_type": "stream",
     "text": [
      "단어             |실제값  |예측값\n",
      "-----------------------------------\n",
      "jordan           : B-gpe   B-gpe\n",
      "'s               : O       O\n",
      "interior         : B-org   B-org\n",
      "ministry         : I-org   I-org\n",
      "says             : O       O\n",
      "it               : O       O\n",
      "is               : O       O\n",
      "pressing         : O       O\n",
      "for              : O       O\n",
      "quick            : O       O\n",
      "approval         : O       O\n",
      "of               : O       O\n",
      "tougher          : O       O\n",
      "anti-terrorism   : O       O\n",
      "laws             : O       O\n",
      "to               : O       O\n",
      "prevent          : O       O\n",
      "future           : O       O\n",
      "attacks          : O       O\n",
      ".                : O       O\n"
     ]
    }
   ],
   "source": [
    "i = 1 # 확인하고 싶은 테스트용 샘플의 인덱스.\n",
    "\n",
    "# 입력한 테스트용 샘플에 대해서 예측 y를 리턴\n",
    "y_predicted = model.predict(np.array([X_test[i]]))\n",
    "\n",
    "# 확률 벡터를 정수 인코딩으로 변경함.\n",
    "y_predicted = np.argmax(y_predicted, axis=-1)\n",
    "\n",
    "# 원-핫 인코딩을 다시 정수 인코딩으로 변경함.\n",
    "labels = np.argmax(y_test[i], -1) \n",
    "\n",
    "print(\"{:15}|{:5}|{}\".format(\"단어\", \"실제값\", \"예측값\"))\n",
    "print(35 * \"-\")\n",
    "\n",
    "for word, tag, pred in zip(X_test[i], labels, y_predicted[0]):\n",
    "    if word != 0: # PAD값은 제외함.\n",
    "        print(\"{:17}: {:7} {}\".format(index_to_word[word], \n",
    "                                      index_to_ner[tag], \n",
    "                                      index_to_ner[pred]))"
   ]
  },
  {
   "cell_type": "code",
   "execution_count": 22,
   "id": "64884aad",
   "metadata": {},
   "outputs": [
    {
     "name": "stdout",
     "output_type": "stream",
     "text": [
      "Requirement already satisfied: seqeval in /home/kjw/anaconda3/envs/tf/lib/python3.8/site-packages (1.2.2)\n",
      "Requirement already satisfied: scikit-learn>=0.21.3 in /home/kjw/anaconda3/envs/tf/lib/python3.8/site-packages (from seqeval) (1.1.1)\n",
      "Requirement already satisfied: numpy>=1.14.0 in /home/kjw/anaconda3/envs/tf/lib/python3.8/site-packages (from seqeval) (1.20.0)\n",
      "Requirement already satisfied: threadpoolctl>=2.0.0 in /home/kjw/anaconda3/envs/tf/lib/python3.8/site-packages (from scikit-learn>=0.21.3->seqeval) (2.2.0)\n",
      "Requirement already satisfied: scipy>=1.3.2 in /home/kjw/anaconda3/envs/tf/lib/python3.8/site-packages (from scikit-learn>=0.21.3->seqeval) (1.7.3)\n",
      "Requirement already satisfied: joblib>=1.0.0 in /home/kjw/anaconda3/envs/tf/lib/python3.8/site-packages (from scikit-learn>=0.21.3->seqeval) (1.1.0)\n"
     ]
    }
   ],
   "source": [
    "!pip install seqeval"
   ]
  },
  {
   "cell_type": "code",
   "execution_count": 23,
   "id": "877f1e4b",
   "metadata": {},
   "outputs": [
    {
     "name": "stdout",
     "output_type": "stream",
     "text": [
      "F1-score: 99.4%\n",
      "              precision    recall  f1-score   support\n",
      "\n",
      "         art       0.97      0.97      0.97       202\n",
      "         eve       0.97      0.97      0.97       159\n",
      "         geo       1.00      1.00      1.00     18828\n",
      "         gpe       1.00      1.00      1.00      7960\n",
      "         nat       0.99      0.96      0.98       103\n",
      "         org       0.98      0.99      0.99     10092\n",
      "         per       0.99      0.99      0.99      8465\n",
      "         tim       1.00      1.00      1.00     10129\n",
      "\n",
      "   micro avg       0.99      0.99      0.99     55938\n",
      "   macro avg       0.99      0.98      0.99     55938\n",
      "weighted avg       0.99      0.99      0.99     55938\n",
      "\n"
     ]
    }
   ],
   "source": [
    "from seqeval.metrics import f1_score, classification_report\n",
    "\n",
    "def sequences_to_tag(sequences):\n",
    "    result = []\n",
    "    # 전체 시퀀스로부터 시퀀스를 하나씩 꺼낸다.\n",
    "    for sequence in sequences:\n",
    "        word_sequence = []\n",
    "        # 시퀀스로부터 확률 벡터 또는 원-핫 벡터를 하나씩 꺼낸다.\n",
    "        for pred in sequence:\n",
    "            # 정수로 변환. 예를 들어 pred가 [0, 0, 1, 0 ,0]라면 \n",
    "            #  1의 인덱스인 2를 리턴한다.\n",
    "            pred_index = np.argmax(pred)            \n",
    "            # index_to_ner을 사용하여 정수를 태깅 정보로 변환. '\n",
    "            # PAD'는 'O'로 변경.\n",
    "            word_sequence.append(index_to_ner[pred_index].replace(\"PAD\", \"O\"))\n",
    "        result.append(word_sequence)\n",
    "    return result\n",
    "\n",
    "y_predicted = model.predict([X_test])\n",
    "pred_tags = sequences_to_tag(y_predicted)\n",
    "test_tags = sequences_to_tag(y_test)\n",
    "\n",
    "print(\"F1-score: {:.1%}\".format(f1_score(test_tags, pred_tags)))\n",
    "print(classification_report(test_tags, pred_tags))"
   ]
  }
 ],
 "metadata": {
  "kernelspec": {
   "display_name": "Python 3 (ipykernel)",
   "language": "python",
   "name": "python3"
  },
  "language_info": {
   "codemirror_mode": {
    "name": "ipython",
    "version": 3
   },
   "file_extension": ".py",
   "mimetype": "text/x-python",
   "name": "python",
   "nbconvert_exporter": "python",
   "pygments_lexer": "ipython3",
   "version": "3.8.13"
  }
 },
 "nbformat": 4,
 "nbformat_minor": 5
}
