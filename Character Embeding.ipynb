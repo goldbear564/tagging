{
 "cells": [
  {
   "cell_type": "code",
   "execution_count": 1,
   "id": "d10085b2",
   "metadata": {},
   "outputs": [],
   "source": [
    "import pandas as pd\n",
    "import numpy as np\n",
    "import matplotlib.pyplot as plt\n",
    "import urllib.request\n",
    "from tensorflow.keras.preprocessing.text import Tokenizer\n",
    "from tensorflow.keras.preprocessing.sequence import pad_sequences\n",
    "from sklearn.model_selection import train_test_split\n",
    "from tensorflow.keras.utils import to_categorical"
   ]
  },
  {
   "cell_type": "code",
   "execution_count": 2,
   "id": "9fd56797",
   "metadata": {},
   "outputs": [],
   "source": [
    "data_url='https://raw.githubusercontent.com/ukairia777/tensorflow-nlp-tutorial/main/12.%20RNN%20Sequence%20Labeling/dataset/ner_dataset.csv'\n",
    "urllib.request.urlretrieve(data_url, filename=\"ner_dataset.csv\")\n",
    "data = pd.read_csv(\"ner_dataset.csv\", encoding=\"latin1\")"
   ]
  },
  {
   "cell_type": "code",
   "execution_count": 3,
   "id": "ec7756cc",
   "metadata": {
    "scrolled": true
   },
   "outputs": [
    {
     "data": {
      "text/html": [
       "<div>\n",
       "<style scoped>\n",
       "    .dataframe tbody tr th:only-of-type {\n",
       "        vertical-align: middle;\n",
       "    }\n",
       "\n",
       "    .dataframe tbody tr th {\n",
       "        vertical-align: top;\n",
       "    }\n",
       "\n",
       "    .dataframe thead th {\n",
       "        text-align: right;\n",
       "    }\n",
       "</style>\n",
       "<table border=\"1\" class=\"dataframe\">\n",
       "  <thead>\n",
       "    <tr style=\"text-align: right;\">\n",
       "      <th></th>\n",
       "      <th>Sentence #</th>\n",
       "      <th>Word</th>\n",
       "      <th>POS</th>\n",
       "      <th>Tag</th>\n",
       "    </tr>\n",
       "  </thead>\n",
       "  <tbody>\n",
       "    <tr>\n",
       "      <th>0</th>\n",
       "      <td>Sentence: 1</td>\n",
       "      <td>Thousands</td>\n",
       "      <td>NNS</td>\n",
       "      <td>O</td>\n",
       "    </tr>\n",
       "    <tr>\n",
       "      <th>1</th>\n",
       "      <td>NaN</td>\n",
       "      <td>of</td>\n",
       "      <td>IN</td>\n",
       "      <td>O</td>\n",
       "    </tr>\n",
       "    <tr>\n",
       "      <th>2</th>\n",
       "      <td>NaN</td>\n",
       "      <td>demonstrators</td>\n",
       "      <td>NNS</td>\n",
       "      <td>O</td>\n",
       "    </tr>\n",
       "    <tr>\n",
       "      <th>3</th>\n",
       "      <td>NaN</td>\n",
       "      <td>have</td>\n",
       "      <td>VBP</td>\n",
       "      <td>O</td>\n",
       "    </tr>\n",
       "    <tr>\n",
       "      <th>4</th>\n",
       "      <td>NaN</td>\n",
       "      <td>marched</td>\n",
       "      <td>VBN</td>\n",
       "      <td>O</td>\n",
       "    </tr>\n",
       "  </tbody>\n",
       "</table>\n",
       "</div>"
      ],
      "text/plain": [
       "    Sentence #           Word  POS Tag\n",
       "0  Sentence: 1      Thousands  NNS   O\n",
       "1          NaN             of   IN   O\n",
       "2          NaN  demonstrators  NNS   O\n",
       "3          NaN           have  VBP   O\n",
       "4          NaN        marched  VBN   O"
      ]
     },
     "execution_count": 3,
     "metadata": {},
     "output_type": "execute_result"
    }
   ],
   "source": [
    "data[:5]"
   ]
  },
  {
   "cell_type": "code",
   "execution_count": 4,
   "id": "e4871227",
   "metadata": {},
   "outputs": [
    {
     "name": "stdout",
     "output_type": "stream",
     "text": [
      "데이터프레임 행의 수: 1048575\n"
     ]
    }
   ],
   "source": [
    "print(f'데이터프레임 행의 수: {len(data)}')"
   ]
  },
  {
   "cell_type": "code",
   "execution_count": 5,
   "id": "ba3eb53e",
   "metadata": {},
   "outputs": [
    {
     "name": "stdout",
     "output_type": "stream",
     "text": [
      "어떤 열에 Null값이 있는지 출력\n",
      "==============================\n"
     ]
    },
    {
     "data": {
      "text/plain": [
       "Sentence #    1000616\n",
       "Word                0\n",
       "POS                 0\n",
       "Tag                 0\n",
       "dtype: int64"
      ]
     },
     "execution_count": 5,
     "metadata": {},
     "output_type": "execute_result"
    }
   ],
   "source": [
    "print('어떤 열에 Null값이 있는지 출력')\n",
    "print('==============================')\n",
    "data.isnull().sum()"
   ]
  },
  {
   "cell_type": "code",
   "execution_count": 6,
   "id": "5e9aa4a4",
   "metadata": {},
   "outputs": [
    {
     "name": "stdout",
     "output_type": "stream",
     "text": [
      "sentence # 열의 중복을 제거한 값의 개수: 47959\n",
      "Word 열의 중복을 제거한 값의 개수: 35178\n",
      "Tag 열의 중복을 제거한 값의 개수: 17\n"
     ]
    }
   ],
   "source": [
    "print(f\"sentence # 열의 중복을 제거한 값의 개수: {data['Sentence #'].nunique()}\")\n",
    "print(f'Word 열의 중복을 제거한 값의 개수: {data.Word.nunique()}')\n",
    "print(f'Tag 열의 중복을 제거한 값의 개수: {data.Tag.nunique()}')"
   ]
  },
  {
   "cell_type": "code",
   "execution_count": 7,
   "id": "f03b17dc",
   "metadata": {},
   "outputs": [
    {
     "name": "stdout",
     "output_type": "stream",
     "text": [
      "Tag 열의 각각의 값의 개수 카운트\n",
      "================================\n",
      "      Tag   count\n",
      "0   B-art     402\n",
      "1   B-eve     308\n",
      "2   B-geo   37644\n",
      "3   B-gpe   15870\n",
      "4   B-nat     201\n",
      "5   B-org   20143\n",
      "6   B-per   16990\n",
      "7   B-tim   20333\n",
      "8   I-art     297\n",
      "9   I-eve     253\n",
      "10  I-geo    7414\n",
      "11  I-gpe     198\n",
      "12  I-nat      51\n",
      "13  I-org   16784\n",
      "14  I-per   17251\n",
      "15  I-tim    6528\n",
      "16      O  887908\n"
     ]
    }
   ],
   "source": [
    "print('Tag 열의 각각의 값의 개수 카운트')\n",
    "print('================================')\n",
    "print(data.groupby('Tag').size().reset_index(name='count'))"
   ]
  },
  {
   "cell_type": "code",
   "execution_count": 8,
   "id": "0b7f0317",
   "metadata": {},
   "outputs": [
    {
     "name": "stdout",
     "output_type": "stream",
     "text": [
      "======변경 전======\n",
      "        Sentence #       Word  POS Tag\n",
      "1048570        NaN       they  PRP   O\n",
      "1048571        NaN  responded  VBD   O\n",
      "1048572        NaN         to   TO   O\n",
      "1048573        NaN        the   DT   O\n",
      "1048574        NaN     attack   NN   O\n",
      "======변경 후======\n",
      "              Sentence #       Word  POS Tag\n",
      "1048570  Sentence: 47959       they  PRP   O\n",
      "1048571  Sentence: 47959  responded  VBD   O\n",
      "1048572  Sentence: 47959         to   TO   O\n",
      "1048573  Sentence: 47959        the   DT   O\n",
      "1048574  Sentence: 47959     attack   NN   O\n"
     ]
    }
   ],
   "source": [
    "print('======변경 전======')\n",
    "print(data.tail())\n",
    "data = data.fillna(method=\"ffill\")\n",
    "print('======변경 후======')\n",
    "print(data.tail())"
   ]
  },
  {
   "cell_type": "code",
   "execution_count": 9,
   "id": "351816be",
   "metadata": {},
   "outputs": [
    {
     "name": "stdout",
     "output_type": "stream",
     "text": [
      "어떤 열에 Null값이 있는지 출력\n",
      "==============================\n"
     ]
    },
    {
     "data": {
      "text/plain": [
       "Sentence #    0\n",
       "Word          0\n",
       "POS           0\n",
       "Tag           0\n",
       "dtype: int64"
      ]
     },
     "execution_count": 9,
     "metadata": {},
     "output_type": "execute_result"
    }
   ],
   "source": [
    "print('어떤 열에 Null값이 있는지 출력')\n",
    "print('==============================')\n",
    "data.isnull().sum()\n",
    "#print(f'데이터에 Null 값이 있는지 유무: {data.isnull().values.any()}')"
   ]
  },
  {
   "cell_type": "code",
   "execution_count": 10,
   "id": "47bf0fee",
   "metadata": {},
   "outputs": [
    {
     "name": "stdout",
     "output_type": "stream",
     "text": [
      "Word 열의 중복을 제거한 값의 개수: 31817\n",
      "    Sentence #           Word  POS Tag\n",
      "0  Sentence: 1      thousands  NNS   O\n",
      "1  Sentence: 1             of   IN   O\n",
      "2  Sentence: 1  demonstrators  NNS   O\n",
      "3  Sentence: 1           have  VBP   O\n",
      "4  Sentence: 1        marched  VBN   O\n"
     ]
    }
   ],
   "source": [
    "data['Word'] = data['Word'].str.lower()\n",
    "print(f'Word 열의 중복을 제거한 값의 개수: {data.Word.nunique()}')\n",
    "print(data[:5])"
   ]
  },
  {
   "cell_type": "code",
   "execution_count": 11,
   "id": "466fecff",
   "metadata": {
    "scrolled": false
   },
   "outputs": [
    {
     "name": "stdout",
     "output_type": "stream",
     "text": [
      "전체 샘플 개수: 47959\n",
      "[('thousands', 'O'), ('of', 'O'), ('demonstrators', 'O'), ('have', 'O'), ('marched', 'O'), ('through', 'O'), ('london', 'B-geo'), ('to', 'O'), ('protest', 'O'), ('the', 'O'), ('war', 'O'), ('in', 'O'), ('iraq', 'B-geo'), ('and', 'O'), ('demand', 'O'), ('the', 'O'), ('withdrawal', 'O'), ('of', 'O'), ('british', 'B-gpe'), ('troops', 'O'), ('from', 'O'), ('that', 'O'), ('country', 'O'), ('.', 'O')]\n"
     ]
    }
   ],
   "source": [
    "#단어와 태깅 정보를 묶어야 함\n",
    "\n",
    "func = lambda temp: [(w, t) for w, t in zip(temp[\"Word\"].values.tolist(), temp[\"Tag\"].values.tolist())]\n",
    "tagged_sentences=[t for t in data.groupby(\"Sentence #\").apply(func)]\n",
    "print(f'전체 샘플 개수: {len(tagged_sentences)}')\n",
    "print(tagged_sentences[0]) # 첫번째 샘플 출력"
   ]
  },
  {
   "cell_type": "code",
   "execution_count": 12,
   "id": "51d4aca8",
   "metadata": {},
   "outputs": [
    {
     "name": "stdout",
     "output_type": "stream",
     "text": [
      "['thousands', 'of', 'demonstrators', 'have', 'marched', 'through', 'london', 'to', 'protest', 'the', 'war', 'in', 'iraq', 'and', 'demand', 'the', 'withdrawal', 'of', 'british', 'troops', 'from', 'that', 'country', '.']\n",
      "['O', 'O', 'O', 'O', 'O', 'O', 'B-geo', 'O', 'O', 'O', 'O', 'O', 'B-geo', 'O', 'O', 'O', 'O', 'O', 'B-gpe', 'O', 'O', 'O', 'O', 'O']\n"
     ]
    }
   ],
   "source": [
    "#단어와 태깅 정보를 분리\n",
    "\n",
    "sentences, ner_tags = [], [] \n",
    "\n",
    "# 47,959개의 문장 샘플을 1개씩 불러온다.\n",
    "for tagged_sentence in tagged_sentences: \n",
    "    # 각 샘플에서 단어들은 sentence에 개체명 태깅 정보들은 tag_info에 저장.\n",
    "    sentence, tag_info = zip(*tagged_sentence) \n",
    "    sentences.append(list(sentence)) # 각 샘플에서 단어 정보만 저장한다.\n",
    "    ner_tags.append(list(tag_info)) # 각 샘플에서 개체명 태깅 정보만 저장한다.\n",
    "\n",
    "print(sentences[0])\n",
    "print(ner_tags[0])"
   ]
  },
  {
   "cell_type": "code",
   "execution_count": 13,
   "id": "0ddc5243",
   "metadata": {},
   "outputs": [
    {
     "name": "stdout",
     "output_type": "stream",
     "text": [
      "샘플의 최대 길이: 104\n",
      "샘플의 평균 길이: 21.863987989741236\n"
     ]
    },
    {
     "data": {
      "image/png": "[encoded data removed]",
      "text/plain": [
       "<Figure size 432x288 with 1 Axes>"
      ]
     },
     "metadata": {
      "needs_background": "light"
     },
     "output_type": "display_data"
    }
   ],
   "source": [
    "print(f'샘플의 최대 길이: {max(len(l) for l in sentences)}')\n",
    "print(f'샘플의 평균 길이: {sum(map(len, sentences))/len(sentences)}')\n",
    "plt.hist([len(s) for s in sentences], bins=50)\n",
    "plt.xlabel('length of samples')\n",
    "plt.ylabel('number of samples')\n",
    "plt.show()"
   ]
  },
  {
   "cell_type": "code",
   "execution_count": 14,
   "id": "f0124c7e",
   "metadata": {},
   "outputs": [
    {
     "name": "stdout",
     "output_type": "stream",
     "text": [
      "단어 집합의 크기: 31819\n",
      "개체명 태깅 정보 집합의 크기: 18\n",
      "단어 OOV의 인덱스: 1\n"
     ]
    }
   ],
   "source": [
    "# 모든 단어를 사용하며 인덱스 1에는 단어 'OOV'를 할당.\n",
    "src_tokenizer = Tokenizer(oov_token='OOV')\n",
    "# 태깅 정보들은 내부적으로 대문자를 유지한 채 저장\n",
    "tar_tokenizer = Tokenizer(lower=False)\n",
    "\n",
    "src_tokenizer.fit_on_texts(sentences)\n",
    "tar_tokenizer.fit_on_texts(ner_tags)\n",
    "\n",
    "vocab_size = len(src_tokenizer.word_index) + 1\n",
    "tag_size = len(tar_tokenizer.word_index) + 1\n",
    "print(f'단어 집합의 크기: {vocab_size}')\n",
    "print(f'개체명 태깅 정보 집합의 크기: {tag_size}')\n",
    "print(f'단어 OOV의 인덱스: {src_tokenizer.word_index[\"OOV\"]}')\n",
    "\n",
    "#정수 인코딩\n",
    "X_data = src_tokenizer.texts_to_sequences(sentences)\n",
    "y_data = tar_tokenizer.texts_to_sequences(ner_tags)\n"
   ]
  },
  {
   "cell_type": "code",
   "execution_count": 1,
   "id": "4bec1ab1",
   "metadata": {},
   "outputs": [
    {
     "ename": "NameError",
     "evalue": "name 'data' is not defined",
     "output_type": "error",
     "traceback": [
      "\u001b[0;31m---------------------------------------------------------------------------\u001b[0m",
      "\u001b[0;31mNameError\u001b[0m                                 Traceback (most recent call last)",
      "Input \u001b[0;32mIn [1]\u001b[0m, in \u001b[0;36m<cell line: 2>\u001b[0;34m()\u001b[0m\n\u001b[1;32m      1\u001b[0m \u001b[38;5;66;03m# char_vocab 만들기\u001b[39;00m\n\u001b[0;32m----> 2\u001b[0m words \u001b[38;5;241m=\u001b[39m \u001b[38;5;28mlist\u001b[39m(\u001b[38;5;28mset\u001b[39m(\u001b[43mdata\u001b[49m[\u001b[38;5;124m\"\u001b[39m\u001b[38;5;124mWord\u001b[39m\u001b[38;5;124m\"\u001b[39m]\u001b[38;5;241m.\u001b[39mvalues))\n\u001b[1;32m      3\u001b[0m chars \u001b[38;5;241m=\u001b[39m \u001b[38;5;28mset\u001b[39m([w_i \u001b[38;5;28;01mfor\u001b[39;00m w \u001b[38;5;129;01min\u001b[39;00m words \u001b[38;5;28;01mfor\u001b[39;00m w_i \u001b[38;5;129;01min\u001b[39;00m w])\n\u001b[1;32m      4\u001b[0m chars \u001b[38;5;241m=\u001b[39m \u001b[38;5;28msorted\u001b[39m(\u001b[38;5;28mlist\u001b[39m(chars))\n",
      "\u001b[0;31mNameError\u001b[0m: name 'data' is not defined"
     ]
    }
   ],
   "source": [
    "# char_vocab 만들기\n",
    "words = list(set(data[\"Word\"].values))\n",
    "chars = set([w_i for w in words for w_i in w])\n",
    "chars = sorted(list(chars))\n",
    "print(f'문자 집합: {chars}')"
   ]
  },
  {
   "cell_type": "code",
   "execution_count": null,
   "id": "2b91eb75",
   "metadata": {},
   "outputs": [],
   "source": []
  },
  {
   "cell_type": "code",
   "execution_count": null,
   "id": "7b4fcee8",
   "metadata": {},
   "outputs": [],
   "source": []
  },
  {
   "cell_type": "code",
   "execution_count": null,
   "id": "b1fcbcc1",
   "metadata": {},
   "outputs": [],
   "source": []
  },
  {
   "cell_type": "code",
   "execution_count": null,
   "id": "754fd38a",
   "metadata": {},
   "outputs": [],
   "source": []
  },
  {
   "cell_type": "code",
   "execution_count": null,
   "id": "a05bddec",
   "metadata": {},
   "outputs": [],
   "source": []
  },
  {
   "cell_type": "code",
   "execution_count": 15,
   "id": "1f605373",
   "metadata": {},
   "outputs": [
    {
     "name": "stdout",
     "output_type": "stream",
     "text": [
      "[254, 6, 967, 16, 1795, 238, 468, 7, 523, 2, 129, 5, 61, 9, 571, 2, 833, 6, 186, 90, 22, 15, 56, 3]\n",
      "[1, 1, 1, 1, 1, 1, 2, 1, 1, 1, 1, 1, 2, 1, 1, 1, 1, 1, 8, 1, 1, 1, 1, 1]\n"
     ]
    }
   ],
   "source": [
    "print(X_data[0])\n",
    "print(y_data[0])"
   ]
  },
  {
   "cell_type": "code",
   "execution_count": 16,
   "id": "e7c226e5",
   "metadata": {},
   "outputs": [
    {
     "name": "stdout",
     "output_type": "stream",
     "text": [
      "{1: 'O', 2: 'B-geo', 3: 'B-tim', 4: 'B-org', 5: 'I-per', 6: 'B-per', 7: 'I-org', 8: 'B-gpe', 9: 'I-geo', 10: 'I-tim', 11: 'B-art', 12: 'B-eve', 13: 'I-art', 14: 'I-eve', 15: 'B-nat', 16: 'I-gpe', 17: 'I-nat', 0: 'PAD'}\n"
     ]
    }
   ],
   "source": [
    "word_to_index = src_tokenizer.word_index\n",
    "index_to_word = src_tokenizer.index_word\n",
    "ner_to_index = tar_tokenizer.word_index\n",
    "index_to_ner = tar_tokenizer.index_word\n",
    "index_to_ner[0] = 'PAD'\n",
    "\n",
    "print(index_to_ner)"
   ]
  },
  {
   "cell_type": "code",
   "execution_count": 17,
   "id": "d7a1f28a",
   "metadata": {},
   "outputs": [
    {
     "name": "stdout",
     "output_type": "stream",
     "text": [
      "기존 문장: ['thousands', 'of', 'demonstrators', 'have', 'marched', 'through', 'london', 'to', 'protest', 'the', 'war', 'in', 'iraq', 'and', 'demand', 'the', 'withdrawal', 'of', 'british', 'troops', 'from', 'that', 'country', '.']\n",
      "디코딩 문장: ['thousands', 'of', 'demonstrators', 'have', 'marched', 'through', 'london', 'to', 'protest', 'the', 'war', 'in', 'iraq', 'and', 'demand', 'the', 'withdrawal', 'of', 'british', 'troops', 'from', 'that', 'country', '.']\n"
     ]
    }
   ],
   "source": [
    "decoded = []\n",
    "for index in X_data[0] : # 첫번째 샘플 안의 인덱스들에 대해서\n",
    "    decoded.append(index_to_word[index]) # 다시 단어로 변환\n",
    "\n",
    "print(f'기존 문장: {sentences[0]}')\n",
    "print(f'디코딩 문장: {decoded}')"
   ]
  },
  {
   "cell_type": "code",
   "execution_count": 18,
   "id": "80f6984b",
   "metadata": {
    "scrolled": true
   },
   "outputs": [
    {
     "name": "stdout",
     "output_type": "stream",
     "text": [
      "훈련 샘플 문장의 크기: (28775, 70)\n",
      "훈련 샘플 레이블(정수 인코딩)의 크기: (28775, 70)\n",
      "훈련 샘플 레이블(원-핫 인코딩)의 크기: (28775, 70, 18)\n",
      "검증 샘플 문장의 크기: (23980, 70)\n",
      "검증 샘플 레이블(정수 인코딩)의 크기: (23980, 70)\n",
      "검증 샘플 레이블(원-핫 인코딩)의 크기: (23980, 70, 18)\n",
      "테스트 샘플 문장의 크기: (23979, 70)\n",
      "테스트 샘플 레이블(정수 인코딩)의 크기: (23979, 70)\n",
      "테스트 샘플 레이블(원-핫 인코딩)의 크기: (23979, 70, 18)\n"
     ]
    }
   ],
   "source": [
    "max_len = 70\n",
    "X_data = pad_sequences(X_data, padding='post', maxlen=max_len)\n",
    "y_data = pad_sequences(y_data, padding='post', maxlen=max_len)\n",
    "\n",
    "X_train, X_test, y_train_int, y_test_int = train_test_split(X_data, y_data, \n",
    "                                                            test_size=.4, \n",
    "                                                            random_state=777)\n",
    "X_test, X_val, y_test_int, y_val_int = train_test_split(X_data, y_data, \n",
    "                                                            test_size=.5, \n",
    "                                                            random_state=777)\n",
    "\n",
    "#레이블에 해당하는 태깅 정보를 원-핫 인코딩 적용\n",
    "y_train = to_categorical(y_train_int, num_classes=tag_size)\n",
    "y_val = to_categorical(y_val_int, num_classes=tag_size)\n",
    "y_test = to_categorical(y_test_int, num_classes=tag_size)\n",
    "\n",
    "print(f'훈련 샘플 문장의 크기: {X_train.shape}')\n",
    "print(f'훈련 샘플 레이블(정수 인코딩)의 크기: {y_train_int.shape}')\n",
    "print(f'훈련 샘플 레이블(원-핫 인코딩)의 크기: {y_train.shape}')\n",
    "print(f'검증 샘플 문장의 크기: {X_val.shape}')\n",
    "print(f'검증 샘플 레이블(정수 인코딩)의 크기: {y_val_int.shape}')\n",
    "print(f'검증 샘플 레이블(원-핫 인코딩)의 크기: {y_val.shape}')\n",
    "\n",
    "print(f'테스트 샘플 문장의 크기: {X_test.shape}')\n",
    "print(f'테스트 샘플 레이블(정수 인코딩)의 크기: {y_test_int.shape}')\n",
    "print(f'테스트 샘플 레이블(원-핫 인코딩)의 크기: {y_test.shape}')\n"
   ]
  },
  {
   "cell_type": "code",
   "execution_count": 19,
   "id": "03a47391",
   "metadata": {
    "scrolled": true
   },
   "outputs": [
    {
     "name": "stdout",
     "output_type": "stream",
     "text": [
      "Requirement already satisfied: keras-crf in /home/kjw/anaconda3/envs/tf/lib/python3.8/site-packages (0.3.0)\n",
      "Requirement already satisfied: tensorflow-addons in /home/kjw/anaconda3/envs/tf/lib/python3.8/site-packages (from keras-crf) (0.17.1)\n",
      "Requirement already satisfied: tensorflow in /home/kjw/anaconda3/envs/tf/lib/python3.8/site-packages (from keras-crf) (2.8.0)\n",
      "Requirement already satisfied: protobuf>=3.9.2 in /home/kjw/anaconda3/envs/tf/lib/python3.8/site-packages (from tensorflow->keras-crf) (3.19.4)\n",
      "Requirement already satisfied: keras<2.9,>=2.8.0rc0 in /home/kjw/anaconda3/envs/tf/lib/python3.8/site-packages (from tensorflow->keras-crf) (2.8.0)\n",
      "Requirement already satisfied: grpcio<2.0,>=1.24.3 in /home/kjw/anaconda3/envs/tf/lib/python3.8/site-packages (from tensorflow->keras-crf) (1.34.1)\n",
      "Requirement already satisfied: six>=1.12.0 in /home/kjw/anaconda3/envs/tf/lib/python3.8/site-packages (from tensorflow->keras-crf) (1.15.0)\n",
      "Requirement already satisfied: tf-estimator-nightly==2.8.0.dev2021122109 in /home/kjw/anaconda3/envs/tf/lib/python3.8/site-packages (from tensorflow->keras-crf) (2.8.0.dev2021122109)\n",
      "Requirement already satisfied: opt-einsum>=2.3.2 in /home/kjw/anaconda3/envs/tf/lib/python3.8/site-packages (from tensorflow->keras-crf) (3.3.0)\n",
      "Requirement already satisfied: google-pasta>=0.1.1 in /home/kjw/anaconda3/envs/tf/lib/python3.8/site-packages (from tensorflow->keras-crf) (0.2.0)\n",
      "Requirement already satisfied: termcolor>=1.1.0 in /home/kjw/anaconda3/envs/tf/lib/python3.8/site-packages (from tensorflow->keras-crf) (1.1.0)\n",
      "Requirement already satisfied: gast>=0.2.1 in /home/kjw/anaconda3/envs/tf/lib/python3.8/site-packages (from tensorflow->keras-crf) (0.4.0)\n",
      "Requirement already satisfied: h5py>=2.9.0 in /home/kjw/anaconda3/envs/tf/lib/python3.8/site-packages (from tensorflow->keras-crf) (3.1.0)\n",
      "Requirement already satisfied: keras-preprocessing>=1.1.1 in /home/kjw/anaconda3/envs/tf/lib/python3.8/site-packages (from tensorflow->keras-crf) (1.1.2)\n",
      "Requirement already satisfied: astunparse>=1.6.0 in /home/kjw/anaconda3/envs/tf/lib/python3.8/site-packages (from tensorflow->keras-crf) (1.6.3)\n",
      "Requirement already satisfied: tensorboard<2.9,>=2.8 in /home/kjw/anaconda3/envs/tf/lib/python3.8/site-packages (from tensorflow->keras-crf) (2.8.0)\n",
      "Requirement already satisfied: libclang>=9.0.1 in /home/kjw/anaconda3/envs/tf/lib/python3.8/site-packages (from tensorflow->keras-crf) (14.0.1)\n",
      "Requirement already satisfied: flatbuffers>=1.12 in /home/kjw/anaconda3/envs/tf/lib/python3.8/site-packages (from tensorflow->keras-crf) (1.12)\n",
      "Requirement already satisfied: absl-py>=0.4.0 in /home/kjw/anaconda3/envs/tf/lib/python3.8/site-packages (from tensorflow->keras-crf) (0.15.0)\n",
      "Requirement already satisfied: tensorflow-io-gcs-filesystem>=0.23.1 in /home/kjw/anaconda3/envs/tf/lib/python3.8/site-packages (from tensorflow->keras-crf) (0.26.0)\n",
      "Requirement already satisfied: setuptools in /home/kjw/anaconda3/envs/tf/lib/python3.8/site-packages (from tensorflow->keras-crf) (61.2.0)\n",
      "Requirement already satisfied: typing-extensions>=3.6.6 in /home/kjw/anaconda3/envs/tf/lib/python3.8/site-packages (from tensorflow->keras-crf) (4.1.1)\n",
      "Requirement already satisfied: wrapt>=1.11.0 in /home/kjw/anaconda3/envs/tf/lib/python3.8/site-packages (from tensorflow->keras-crf) (1.12.1)\n",
      "Requirement already satisfied: numpy>=1.20 in /home/kjw/anaconda3/envs/tf/lib/python3.8/site-packages (from tensorflow->keras-crf) (1.20.0)\n",
      "Requirement already satisfied: packaging in /home/kjw/anaconda3/envs/tf/lib/python3.8/site-packages (from tensorflow-addons->keras-crf) (21.3)\n",
      "Requirement already satisfied: typeguard>=2.7 in /home/kjw/anaconda3/envs/tf/lib/python3.8/site-packages (from tensorflow-addons->keras-crf) (2.13.3)\n",
      "Requirement already satisfied: wheel<1.0,>=0.23.0 in /home/kjw/anaconda3/envs/tf/lib/python3.8/site-packages (from astunparse>=1.6.0->tensorflow->keras-crf) (0.37.1)\n",
      "Requirement already satisfied: tensorboard-data-server<0.7.0,>=0.6.0 in /home/kjw/anaconda3/envs/tf/lib/python3.8/site-packages (from tensorboard<2.9,>=2.8->tensorflow->keras-crf) (0.6.1)\n",
      "Requirement already satisfied: google-auth<3,>=1.6.3 in /home/kjw/anaconda3/envs/tf/lib/python3.8/site-packages (from tensorboard<2.9,>=2.8->tensorflow->keras-crf) (2.9.1)\n",
      "Requirement already satisfied: tensorboard-plugin-wit>=1.6.0 in /home/kjw/anaconda3/envs/tf/lib/python3.8/site-packages (from tensorboard<2.9,>=2.8->tensorflow->keras-crf) (1.8.1)\n",
      "Requirement already satisfied: werkzeug>=0.11.15 in /home/kjw/anaconda3/envs/tf/lib/python3.8/site-packages (from tensorboard<2.9,>=2.8->tensorflow->keras-crf) (2.1.2)\n",
      "Requirement already satisfied: requests<3,>=2.21.0 in /home/kjw/anaconda3/envs/tf/lib/python3.8/site-packages (from tensorboard<2.9,>=2.8->tensorflow->keras-crf) (2.28.1)\n",
      "Requirement already satisfied: markdown>=2.6.8 in /home/kjw/anaconda3/envs/tf/lib/python3.8/site-packages (from tensorboard<2.9,>=2.8->tensorflow->keras-crf) (3.4.1)\n",
      "Requirement already satisfied: google-auth-oauthlib<0.5,>=0.4.1 in /home/kjw/anaconda3/envs/tf/lib/python3.8/site-packages (from tensorboard<2.9,>=2.8->tensorflow->keras-crf) (0.4.6)\n",
      "Requirement already satisfied: pyparsing!=3.0.5,>=2.0.2 in /home/kjw/anaconda3/envs/tf/lib/python3.8/site-packages (from packaging->tensorflow-addons->keras-crf) (3.0.4)\n",
      "Requirement already satisfied: rsa<5,>=3.1.4 in /home/kjw/anaconda3/envs/tf/lib/python3.8/site-packages (from google-auth<3,>=1.6.3->tensorboard<2.9,>=2.8->tensorflow->keras-crf) (4.8)\n",
      "Requirement already satisfied: cachetools<6.0,>=2.0.0 in /home/kjw/anaconda3/envs/tf/lib/python3.8/site-packages (from google-auth<3,>=1.6.3->tensorboard<2.9,>=2.8->tensorflow->keras-crf) (5.2.0)\n",
      "Requirement already satisfied: pyasn1-modules>=0.2.1 in /home/kjw/anaconda3/envs/tf/lib/python3.8/site-packages (from google-auth<3,>=1.6.3->tensorboard<2.9,>=2.8->tensorflow->keras-crf) (0.2.8)\n",
      "Requirement already satisfied: requests-oauthlib>=0.7.0 in /home/kjw/anaconda3/envs/tf/lib/python3.8/site-packages (from google-auth-oauthlib<0.5,>=0.4.1->tensorboard<2.9,>=2.8->tensorflow->keras-crf) (1.3.1)\n",
      "Requirement already satisfied: importlib-metadata>=4.4 in /home/kjw/anaconda3/envs/tf/lib/python3.8/site-packages (from markdown>=2.6.8->tensorboard<2.9,>=2.8->tensorflow->keras-crf) (4.12.0)\n",
      "Requirement already satisfied: charset-normalizer<3,>=2 in /home/kjw/anaconda3/envs/tf/lib/python3.8/site-packages (from requests<3,>=2.21.0->tensorboard<2.9,>=2.8->tensorflow->keras-crf) (2.1.0)\n",
      "Requirement already satisfied: idna<4,>=2.5 in /home/kjw/anaconda3/envs/tf/lib/python3.8/site-packages (from requests<3,>=2.21.0->tensorboard<2.9,>=2.8->tensorflow->keras-crf) (3.3)\n",
      "Requirement already satisfied: certifi>=2017.4.17 in /home/kjw/anaconda3/envs/tf/lib/python3.8/site-packages (from requests<3,>=2.21.0->tensorboard<2.9,>=2.8->tensorflow->keras-crf) (2022.6.15)\n",
      "Requirement already satisfied: urllib3<1.27,>=1.21.1 in /home/kjw/anaconda3/envs/tf/lib/python3.8/site-packages (from requests<3,>=2.21.0->tensorboard<2.9,>=2.8->tensorflow->keras-crf) (1.26.10)\n",
      "Requirement already satisfied: zipp>=0.5 in /home/kjw/anaconda3/envs/tf/lib/python3.8/site-packages (from importlib-metadata>=4.4->markdown>=2.6.8->tensorboard<2.9,>=2.8->tensorflow->keras-crf) (3.8.1)\n",
      "Requirement already satisfied: pyasn1<0.5.0,>=0.4.6 in /home/kjw/anaconda3/envs/tf/lib/python3.8/site-packages (from pyasn1-modules>=0.2.1->google-auth<3,>=1.6.3->tensorboard<2.9,>=2.8->tensorflow->keras-crf) (0.4.8)\n",
      "Requirement already satisfied: oauthlib>=3.0.0 in /home/kjw/anaconda3/envs/tf/lib/python3.8/site-packages (from requests-oauthlib>=0.7.0->google-auth-oauthlib<0.5,>=0.4.1->tensorboard<2.9,>=2.8->tensorflow->keras-crf) (3.2.0)\n"
     ]
    }
   ],
   "source": [
    "!pip install keras-crf"
   ]
  },
  {
   "cell_type": "code",
   "execution_count": 20,
   "id": "f5bcbb7d",
   "metadata": {
    "scrolled": false
   },
   "outputs": [
    {
     "name": "stderr",
     "output_type": "stream",
     "text": [
      "2022-10-05 14:52:56.166411: I tensorflow/stream_executor/cuda/cuda_gpu_executor.cc:936] successful NUMA node read from SysFS had negative value (-1), but there must be at least one NUMA node, so returning NUMA node zero\n",
      "2022-10-05 14:52:56.174623: I tensorflow/stream_executor/cuda/cuda_gpu_executor.cc:936] successful NUMA node read from SysFS had negative value (-1), but there must be at least one NUMA node, so returning NUMA node zero\n",
      "2022-10-05 14:52:56.175086: I tensorflow/stream_executor/cuda/cuda_gpu_executor.cc:936] successful NUMA node read from SysFS had negative value (-1), but there must be at least one NUMA node, so returning NUMA node zero\n",
      "2022-10-05 14:52:56.175963: I tensorflow/core/platform/cpu_feature_guard.cc:151] This TensorFlow binary is optimized with oneAPI Deep Neural Network Library (oneDNN) to use the following CPU instructions in performance-critical operations:  AVX2 FMA\n",
      "To enable them in other operations, rebuild TensorFlow with the appropriate compiler flags.\n",
      "2022-10-05 14:52:56.176368: I tensorflow/stream_executor/cuda/cuda_gpu_executor.cc:936] successful NUMA node read from SysFS had negative value (-1), but there must be at least one NUMA node, so returning NUMA node zero\n",
      "2022-10-05 14:52:56.176753: I tensorflow/stream_executor/cuda/cuda_gpu_executor.cc:936] successful NUMA node read from SysFS had negative value (-1), but there must be at least one NUMA node, so returning NUMA node zero\n",
      "2022-10-05 14:52:56.177116: I tensorflow/stream_executor/cuda/cuda_gpu_executor.cc:936] successful NUMA node read from SysFS had negative value (-1), but there must be at least one NUMA node, so returning NUMA node zero\n",
      "2022-10-05 14:52:56.633880: I tensorflow/stream_executor/cuda/cuda_gpu_executor.cc:936] successful NUMA node read from SysFS had negative value (-1), but there must be at least one NUMA node, so returning NUMA node zero\n",
      "2022-10-05 14:52:56.634269: I tensorflow/stream_executor/cuda/cuda_gpu_executor.cc:936] successful NUMA node read from SysFS had negative value (-1), but there must be at least one NUMA node, so returning NUMA node zero\n",
      "2022-10-05 14:52:56.634594: I tensorflow/stream_executor/cuda/cuda_gpu_executor.cc:936] successful NUMA node read from SysFS had negative value (-1), but there must be at least one NUMA node, so returning NUMA node zero\n",
      "2022-10-05 14:52:56.634885: I tensorflow/core/common_runtime/gpu/gpu_device.cc:1525] Created device /job:localhost/replica:0/task:0/device:GPU:0 with 6434 MB memory:  -> device: 0, name: NVIDIA GeForce RTX 2080 SUPER, pci bus id: 0000:02:00.0, compute capability: 7.5\n"
     ]
    }
   ],
   "source": [
    "import tensorflow as tf\n",
    "from tensorflow.keras import Model\n",
    "from tensorflow.keras.layers import Dense, LSTM, Input, Bidirectional, TimeDistributed, Embedding, Dropout\n",
    "from tensorflow.keras.callbacks import EarlyStopping, ModelCheckpoint\n",
    "from keras_crf import CRFModel\n",
    "from seqeval.metrics import f1_score, classification_report\n",
    "\n",
    "embedding_dim = 128\n",
    "hidden_units = 64\n",
    "dropout_ratio = 0.3\n",
    "\n",
    "sequence_input = Input(shape=(max_len,),dtype=tf.int32, name='sequence_input')\n",
    "\n",
    "model_embedding = Embedding(input_dim=vocab_size,\n",
    "                            output_dim=embedding_dim,\n",
    "                            input_length=max_len)(sequence_input)\n",
    "\n",
    "model_bilstm = Bidirectional(LSTM(units=hidden_units, \n",
    "                                  return_sequences=True))(model_embedding)\n",
    "\n",
    "model_dropout = TimeDistributed(Dropout(dropout_ratio))(model_bilstm)\n",
    "\n",
    "model_dense = TimeDistributed(Dense(tag_size, activation='relu'))(model_dropout)\n",
    "\n",
    "base = Model(inputs=sequence_input, outputs=model_dense)\n",
    "model = CRFModel(base, tag_size)\n",
    "model.compile(optimizer=tf.keras.optimizers.Adam(0.001), metrics='accuracy')"
   ]
  },
  {
   "cell_type": "code",
   "execution_count": 21,
   "id": "c28b1cf9",
   "metadata": {
    "scrolled": false
   },
   "outputs": [
    {
     "name": "stdout",
     "output_type": "stream",
     "text": [
      "Epoch 1/30\n"
     ]
    },
    {
     "name": "stderr",
     "output_type": "stream",
     "text": [
      "2022-10-05 14:53:01.702321: I tensorflow/stream_executor/cuda/cuda_dnn.cc:368] Loaded cuDNN version 8100\n"
     ]
    },
    {
     "name": "stdout",
     "output_type": "stream",
     "text": [
      "225/225 [==============================] - ETA: 0s - decode_sequence_accuracy: 0.9044 - loss: 29.9372\n",
      "Epoch 1: val_decode_sequence_accuracy improved from -inf to 0.95201, saving model to bilstm_crf/cp.ckpt\n",
      "225/225 [==============================] - 24s 88ms/step - decode_sequence_accuracy: 0.9044 - loss: 29.8624 - val_decode_sequence_accuracy: 0.9520 - val_loss: 11.1590\n",
      "Epoch 2/30\n",
      "225/225 [==============================] - ETA: 0s - decode_sequence_accuracy: 0.9651 - loss: 8.5551\n",
      "Epoch 2: val_decode_sequence_accuracy improved from 0.95201 to 0.97585, saving model to bilstm_crf/cp.ckpt\n",
      "225/225 [==============================] - 19s 84ms/step - decode_sequence_accuracy: 0.9651 - loss: 8.5451 - val_decode_sequence_accuracy: 0.9759 - val_loss: 5.1076\n",
      "Epoch 3/30\n",
      "225/225 [==============================] - ETA: 0s - decode_sequence_accuracy: 0.9789 - loss: 5.2305\n",
      "Epoch 3: val_decode_sequence_accuracy improved from 0.97585 to 0.98196, saving model to bilstm_crf/cp.ckpt\n",
      "225/225 [==============================] - 19s 84ms/step - decode_sequence_accuracy: 0.9789 - loss: 5.2271 - val_decode_sequence_accuracy: 0.9820 - val_loss: 3.2672\n",
      "Epoch 4/30\n",
      "225/225 [==============================] - ETA: 0s - decode_sequence_accuracy: 0.9842 - loss: 3.6178\n",
      "Epoch 4: val_decode_sequence_accuracy improved from 0.98196 to 0.98452, saving model to bilstm_crf/cp.ckpt\n",
      "225/225 [==============================] - 19s 83ms/step - decode_sequence_accuracy: 0.9842 - loss: 3.6149 - val_decode_sequence_accuracy: 0.9845 - val_loss: 2.1863\n",
      "Epoch 5/30\n",
      "225/225 [==============================] - ETA: 0s - decode_sequence_accuracy: 0.9870 - loss: 2.6829\n",
      "Epoch 5: val_decode_sequence_accuracy improved from 0.98452 to 0.98568, saving model to bilstm_crf/cp.ckpt\n",
      "225/225 [==============================] - 19s 82ms/step - decode_sequence_accuracy: 0.9870 - loss: 2.6847 - val_decode_sequence_accuracy: 0.9857 - val_loss: 1.5790\n",
      "Epoch 6/30\n",
      "225/225 [==============================] - ETA: 0s - decode_sequence_accuracy: 0.9886 - loss: 2.1556\n",
      "Epoch 6: val_decode_sequence_accuracy improved from 0.98568 to 0.98634, saving model to bilstm_crf/cp.ckpt\n",
      "225/225 [==============================] - 19s 82ms/step - decode_sequence_accuracy: 0.9886 - loss: 2.1559 - val_decode_sequence_accuracy: 0.9863 - val_loss: 1.1223\n",
      "Epoch 7/30\n",
      "225/225 [==============================] - ETA: 0s - decode_sequence_accuracy: 0.9897 - loss: 1.8208\n",
      "Epoch 7: val_decode_sequence_accuracy did not improve from 0.98634\n",
      "225/225 [==============================] - 18s 81ms/step - decode_sequence_accuracy: 0.9897 - loss: 1.8207 - val_decode_sequence_accuracy: 0.9863 - val_loss: 0.8610\n",
      "Epoch 8/30\n",
      "225/225 [==============================] - ETA: 0s - decode_sequence_accuracy: 0.9906 - loss: 1.5790\n",
      "Epoch 8: val_decode_sequence_accuracy improved from 0.98634 to 0.98642, saving model to bilstm_crf/cp.ckpt\n",
      "225/225 [==============================] - 19s 82ms/step - decode_sequence_accuracy: 0.9906 - loss: 1.5762 - val_decode_sequence_accuracy: 0.9864 - val_loss: 0.6602\n",
      "Epoch 9/30\n",
      "225/225 [==============================] - ETA: 0s - decode_sequence_accuracy: 0.9914 - loss: 1.3857\n",
      "Epoch 9: val_decode_sequence_accuracy improved from 0.98642 to 0.98659, saving model to bilstm_crf/cp.ckpt\n",
      "225/225 [==============================] - 18s 80ms/step - decode_sequence_accuracy: 0.9914 - loss: 1.3855 - val_decode_sequence_accuracy: 0.9866 - val_loss: 0.5457\n",
      "Epoch 10/30\n",
      "225/225 [==============================] - ETA: 0s - decode_sequence_accuracy: 0.9920 - loss: 1.2242\n",
      "Epoch 10: val_decode_sequence_accuracy improved from 0.98659 to 0.98671, saving model to bilstm_crf/cp.ckpt\n",
      "225/225 [==============================] - 18s 80ms/step - decode_sequence_accuracy: 0.9920 - loss: 1.2237 - val_decode_sequence_accuracy: 0.9867 - val_loss: 0.5368\n",
      "Epoch 11/30\n",
      "225/225 [==============================] - ETA: 0s - decode_sequence_accuracy: 0.9925 - loss: 1.0980\n",
      "Epoch 11: val_decode_sequence_accuracy improved from 0.98671 to 0.98693, saving model to bilstm_crf/cp.ckpt\n",
      "225/225 [==============================] - 18s 80ms/step - decode_sequence_accuracy: 0.9925 - loss: 1.0970 - val_decode_sequence_accuracy: 0.9869 - val_loss: 0.4538\n",
      "Epoch 12/30\n",
      "225/225 [==============================] - ETA: 0s - decode_sequence_accuracy: 0.9931 - loss: 0.9758\n",
      "Epoch 12: val_decode_sequence_accuracy did not improve from 0.98693\n",
      "225/225 [==============================] - 18s 78ms/step - decode_sequence_accuracy: 0.9931 - loss: 0.9764 - val_decode_sequence_accuracy: 0.9869 - val_loss: 0.3386\n",
      "Epoch 13/30\n",
      "225/225 [==============================] - ETA: 0s - decode_sequence_accuracy: 0.9936 - loss: 0.8790\n",
      "Epoch 13: val_decode_sequence_accuracy did not improve from 0.98693\n",
      "225/225 [==============================] - 18s 78ms/step - decode_sequence_accuracy: 0.9936 - loss: 0.8787 - val_decode_sequence_accuracy: 0.9868 - val_loss: 0.3977\n",
      "Epoch 14/30\n",
      "225/225 [==============================] - ETA: 0s - decode_sequence_accuracy: 0.9940 - loss: 0.7913\n",
      "Epoch 14: val_decode_sequence_accuracy improved from 0.98693 to 0.98698, saving model to bilstm_crf/cp.ckpt\n",
      "225/225 [==============================] - 18s 79ms/step - decode_sequence_accuracy: 0.9940 - loss: 0.7917 - val_decode_sequence_accuracy: 0.9870 - val_loss: 0.3942\n",
      "Epoch 15/30\n",
      "225/225 [==============================] - ETA: 0s - decode_sequence_accuracy: 0.9944 - loss: 0.7027\n",
      "Epoch 15: val_decode_sequence_accuracy did not improve from 0.98698\n",
      "225/225 [==============================] - 18s 78ms/step - decode_sequence_accuracy: 0.9944 - loss: 0.7032 - val_decode_sequence_accuracy: 0.9869 - val_loss: 0.3691\n",
      "Epoch 16/30\n",
      "225/225 [==============================] - ETA: 0s - decode_sequence_accuracy: 0.9947 - loss: 0.6391\n",
      "Epoch 16: val_decode_sequence_accuracy did not improve from 0.98698\n",
      "225/225 [==============================] - 18s 78ms/step - decode_sequence_accuracy: 0.9947 - loss: 0.6413 - val_decode_sequence_accuracy: 0.9866 - val_loss: 0.2729\n",
      "Epoch 17/30\n",
      "225/225 [==============================] - ETA: 0s - decode_sequence_accuracy: 0.9951 - loss: 0.5774\n",
      "Epoch 17: val_decode_sequence_accuracy did not improve from 0.98698\n",
      "225/225 [==============================] - 17s 78ms/step - decode_sequence_accuracy: 0.9951 - loss: 0.5775 - val_decode_sequence_accuracy: 0.9868 - val_loss: 0.2308\n",
      "Epoch 18/30\n",
      "225/225 [==============================] - ETA: 0s - decode_sequence_accuracy: 0.9954 - loss: 0.5105\n",
      "Epoch 18: val_decode_sequence_accuracy did not improve from 0.98698\n",
      "225/225 [==============================] - 17s 78ms/step - decode_sequence_accuracy: 0.9954 - loss: 0.5112 - val_decode_sequence_accuracy: 0.9868 - val_loss: 0.1908\n",
      "Epoch 19/30\n",
      "225/225 [==============================] - ETA: 0s - decode_sequence_accuracy: 0.9956 - loss: 0.4691\n",
      "Epoch 19: val_decode_sequence_accuracy did not improve from 0.98698\n",
      "225/225 [==============================] - 17s 78ms/step - decode_sequence_accuracy: 0.9956 - loss: 0.4689 - val_decode_sequence_accuracy: 0.9865 - val_loss: 0.2113\n",
      "Epoch 20/30\n",
      "225/225 [==============================] - ETA: 0s - decode_sequence_accuracy: 0.9959 - loss: 0.4245\n",
      "Epoch 20: val_decode_sequence_accuracy did not improve from 0.98698\n",
      "225/225 [==============================] - 17s 78ms/step - decode_sequence_accuracy: 0.9959 - loss: 0.4243 - val_decode_sequence_accuracy: 0.9863 - val_loss: 0.1739\n",
      "Epoch 21/30\n",
      "225/225 [==============================] - ETA: 0s - decode_sequence_accuracy: 0.9960 - loss: 0.3936\n",
      "Epoch 21: val_decode_sequence_accuracy did not improve from 0.98698\n",
      "225/225 [==============================] - 18s 78ms/step - decode_sequence_accuracy: 0.9960 - loss: 0.3931 - val_decode_sequence_accuracy: 0.9866 - val_loss: 0.1233\n",
      "Epoch 22/30\n",
      "225/225 [==============================] - ETA: 0s - decode_sequence_accuracy: 0.9963 - loss: 0.3489\n",
      "Epoch 22: val_decode_sequence_accuracy did not improve from 0.98698\n",
      "225/225 [==============================] - 18s 78ms/step - decode_sequence_accuracy: 0.9963 - loss: 0.3490 - val_decode_sequence_accuracy: 0.9867 - val_loss: 0.1350\n",
      "Epoch 23/30\n",
      "225/225 [==============================] - ETA: 0s - decode_sequence_accuracy: 0.9963 - loss: 0.3341\n",
      "Epoch 23: val_decode_sequence_accuracy did not improve from 0.98698\n"
     ]
    },
    {
     "name": "stdout",
     "output_type": "stream",
     "text": [
      "225/225 [==============================] - 17s 77ms/step - decode_sequence_accuracy: 0.9963 - loss: 0.3344 - val_decode_sequence_accuracy: 0.9867 - val_loss: 0.1472\n",
      "Epoch 24/30\n",
      "225/225 [==============================] - ETA: 0s - decode_sequence_accuracy: 0.9965 - loss: 0.3015\n",
      "Epoch 24: val_decode_sequence_accuracy did not improve from 0.98698\n",
      "225/225 [==============================] - 18s 78ms/step - decode_sequence_accuracy: 0.9965 - loss: 0.3019 - val_decode_sequence_accuracy: 0.9862 - val_loss: 0.0697\n",
      "Epoch 25/30\n",
      "225/225 [==============================] - ETA: 0s - decode_sequence_accuracy: 0.9967 - loss: 0.2807\n",
      "Epoch 25: val_decode_sequence_accuracy did not improve from 0.98698\n",
      "225/225 [==============================] - 18s 78ms/step - decode_sequence_accuracy: 0.9967 - loss: 0.2810 - val_decode_sequence_accuracy: 0.9861 - val_loss: 0.0749\n",
      "Epoch 26/30\n",
      "225/225 [==============================] - ETA: 0s - decode_sequence_accuracy: 0.9969 - loss: 0.2542\n",
      "Epoch 26: val_decode_sequence_accuracy did not improve from 0.98698\n",
      "225/225 [==============================] - 18s 78ms/step - decode_sequence_accuracy: 0.9969 - loss: 0.2546 - val_decode_sequence_accuracy: 0.9863 - val_loss: 0.0740\n",
      "Epoch 27/30\n",
      "225/225 [==============================] - ETA: 0s - decode_sequence_accuracy: 0.9969 - loss: 0.2312\n",
      "Epoch 27: val_decode_sequence_accuracy did not improve from 0.98698\n",
      "225/225 [==============================] - 17s 78ms/step - decode_sequence_accuracy: 0.9969 - loss: 0.2312 - val_decode_sequence_accuracy: 0.9861 - val_loss: 0.0612\n",
      "Epoch 28/30\n",
      "225/225 [==============================] - ETA: 0s - decode_sequence_accuracy: 0.9971 - loss: 0.2120\n",
      "Epoch 28: val_decode_sequence_accuracy did not improve from 0.98698\n",
      "225/225 [==============================] - 18s 78ms/step - decode_sequence_accuracy: 0.9971 - loss: 0.2128 - val_decode_sequence_accuracy: 0.9862 - val_loss: 0.0780\n",
      "Epoch 29/30\n",
      "225/225 [==============================] - ETA: 0s - decode_sequence_accuracy: 0.9972 - loss: 0.1942\n",
      "Epoch 29: val_decode_sequence_accuracy did not improve from 0.98698\n",
      "225/225 [==============================] - 17s 78ms/step - decode_sequence_accuracy: 0.9972 - loss: 0.1941 - val_decode_sequence_accuracy: 0.9865 - val_loss: 0.0347\n",
      "Epoch 30/30\n",
      "225/225 [==============================] - ETA: 0s - decode_sequence_accuracy: 0.9972 - loss: 0.1888\n",
      "Epoch 30: val_decode_sequence_accuracy did not improve from 0.98698\n",
      "225/225 [==============================] - 17s 78ms/step - decode_sequence_accuracy: 0.9972 - loss: 0.1887 - val_decode_sequence_accuracy: 0.9868 - val_loss: 0.0560\n"
     ]
    }
   ],
   "source": [
    "es = EarlyStopping(monitor='val_loss', mode='min', verbose=1, patience=4)\n",
    "mc = ModelCheckpoint('bilstm_crf/cp.ckpt', \n",
    "                     monitor='val_decode_sequence_accuracy', \n",
    "                     mode='max', verbose=1, \n",
    "                     save_best_only=True, save_weights_only=True)\n",
    "\n",
    "history = model.fit(X_train, y_train_int, \n",
    "                    batch_size=128, epochs=30, \n",
    "                    validation_data=(X_val, y_val_int), callbacks=[mc, es])"
   ]
  },
  {
   "cell_type": "code",
   "execution_count": 24,
   "id": "e83778c8",
   "metadata": {
    "scrolled": true
   },
   "outputs": [
    {
     "data": {
      "image/png": "[encoded data removed]",
      "text/plain": [
       "<Figure size 864x288 with 2 Axes>"
      ]
     },
     "metadata": {
      "needs_background": "light"
     },
     "output_type": "display_data"
    }
   ],
   "source": [
    "def vis(history,name) :\n",
    "    plt.title(f\"{name.upper()}\")\n",
    "    plt.xlabel('epochs')\n",
    "    plt.ylabel(f\"{name.lower()}\")\n",
    "    value = history.history.get(name)\n",
    "    val_value = history.history.get(f\"val_{name}\",None)\n",
    "    epochs = range(1, len(value)+1)\n",
    "    plt.plot(epochs, value, 'b-', label=f'training {name}')\n",
    "    if val_value is not None :\n",
    "        plt.plot(epochs, val_value, 'r:', label=f'validation {name}')\n",
    "    plt.legend(loc='upper center', bbox_to_anchor=(0.05, 1.2) , \n",
    "               fontsize=10 , ncol=1)\n",
    "    \n",
    "def plot_history(history) :\n",
    "    key_value = list(set([i.split(\"val_\")[-1] for i in \n",
    "                          list(history.history.keys())]))\n",
    "    plt.figure(figsize=(12, 4))\n",
    "    for idx , key in enumerate(key_value) :\n",
    "        plt.subplot(1, len(key_value), idx+1)\n",
    "        vis(history, key)\n",
    "    plt.tight_layout()\n",
    "    plt.show()\n",
    "\n",
    "model.load_weights('bilstm_crf/cp.ckpt')\n",
    "#print(\"테스트 정확도: %.4f\" % (model.evaluate(X_test, y_test_int)[1]))\n",
    "plot_history(history)"
   ]
  },
  {
   "cell_type": "code",
   "execution_count": 25,
   "id": "7ce3b2d2",
   "metadata": {},
   "outputs": [
    {
     "name": "stdout",
     "output_type": "stream",
     "text": [
      "단어             |실제값  |예측값\n",
      "-----------------------------------\n",
      "cheney           : B-per   B-per\n",
      "'s               : O       O\n",
      "stop             : O       O\n",
      "in               : O       O\n",
      "iraq             : B-geo   B-geo\n",
      "is               : O       O\n",
      "part             : O       O\n",
      "of               : O       O\n",
      "a                : O       O\n",
      "middle           : B-geo   B-geo\n",
      "east             : I-geo   I-geo\n",
      "tour             : O       O\n",
      "that             : O       O\n",
      "will             : O       O\n",
      "take             : O       O\n",
      "him              : O       O\n",
      "to               : O       O\n",
      "oman             : B-geo   B-geo\n",
      ",                : O       O\n",
      "saudi            : B-geo   B-geo\n",
      "arabia           : I-geo   I-geo\n",
      ",                : O       O\n",
      "israel           : B-geo   B-geo\n",
      ",                : O       O\n",
      "the              : O       O\n",
      "west             : B-org   B-org\n",
      "bank             : I-org   I-org\n",
      "and              : I-org   I-org\n",
      "turkey           : I-org   I-org\n",
      ".                : O       O\n"
     ]
    }
   ],
   "source": [
    "i = 13 # 확인하고 싶은 테스트용 샘플의 인덱스.\n",
    "y_predicted = model.predict(np.array([X_test[i]]))[0] # 입력한 테스트용 샘플에 대해서 예측 y를 리턴\n",
    "labels = np.argmax(y_test[i], -1) # 원-핫 인코딩을 다시 정수 인코딩으로 변경.\n",
    "\n",
    "print(\"{:15}|{:5}|{}\".format(\"단어\", \"실제값\", \"예측값\"))\n",
    "print(35 * \"-\")\n",
    "\n",
    "for word, tag, pred in zip(X_test[i], labels, y_predicted[0]):\n",
    "    if word != 0: # PAD값은 제외함.\n",
    "        print(\"{:17}: {:7} {}\".format(index_to_word[word], index_to_ner[tag], index_to_ner[pred]))"
   ]
  },
  {
   "cell_type": "code",
   "execution_count": 26,
   "id": "64884aad",
   "metadata": {},
   "outputs": [
    {
     "name": "stdout",
     "output_type": "stream",
     "text": [
      "[[1 1 1 1 1 1 1 1 1 1 1 1 1 1 1 4 7 7 7 2 1 1 4 1 1 1 1 1 1 1 1 1 1 1 1 0\n",
      "  0 0 0 0 0 0 0 0 0 0 0 0 0 0 0 0 0 0 0 0 0 0 0 0 0 0 0 0 0 0 0 0 0 0]\n",
      " [8 1 4 7 1 1 1 1 1 1 1 1 1 1 1 1 1 1 1 1 0 0 0 0 0 0 0 0 0 0 0 0 0 0 0 0\n",
      "  0 0 0 0 0 0 0 0 0 0 0 0 0 0 0 0 0 0 0 0 0 0 0 0 0 0 0 0 0 0 0 0 0 0]]\n"
     ]
    }
   ],
   "source": [
    "y_predicted = model.predict(X_test)[0]\n",
    "print(y_predicted[:2])"
   ]
  },
  {
   "cell_type": "code",
   "execution_count": 28,
   "id": "877f1e4b",
   "metadata": {
    "scrolled": false
   },
   "outputs": [
    {
     "name": "stdout",
     "output_type": "stream",
     "text": [
      "F1-score: 94.9%\n",
      "              precision    recall  f1-score   support\n",
      "\n",
      "         art       0.82      0.68      0.74       202\n",
      "         eve       0.76      0.57      0.65       159\n",
      "         geo       0.95      0.98      0.96     18828\n",
      "         gpe       0.98      0.96      0.97      7960\n",
      "         nat       0.71      0.56      0.63       103\n",
      "         org       0.92      0.87      0.90     10092\n",
      "         per       0.95      0.93      0.94      8465\n",
      "         tim       0.98      0.97      0.97     10129\n",
      "\n",
      "   micro avg       0.95      0.95      0.95     55938\n",
      "   macro avg       0.88      0.82      0.85     55938\n",
      "weighted avg       0.95      0.95      0.95     55938\n",
      "\n"
     ]
    }
   ],
   "source": [
    "from seqeval.metrics import f1_score, classification_report\n",
    "\n",
    "\n",
    "def sequences_to_tag(sequences): # 예측값을 index_to_ner를 사용하여 태깅 정보로 변경하는 함수.\n",
    "    result = []\n",
    "    for sequence in sequences: # 전체 시퀀스로부터 시퀀스를 하나씩 꺼낸다.\n",
    "        temp = []\n",
    "        for pred in sequence: # 시퀀스로부터 예측값을 하나씩 꺼낸다.\n",
    "            pred_index = np.argmax(pred) # 예를 들어 [0, 0, 1, 0 ,0]라면 1의 인덱스인 2를 리턴한다.\n",
    "            temp.append(index_to_ner[pred_index].replace(\"PAD\", \"O\")) # 'PAD'는 'O'로 변경\n",
    "        result.append(temp)\n",
    "    return result\n",
    "\n",
    "\n",
    "\n",
    "def sequences_to_tag_for_crf(sequences): \n",
    "    result = []\n",
    "    # 전체 시퀀스로부터 시퀀스를 하나씩 꺼낸다.\n",
    "    for sequence in sequences: \n",
    "        word_sequence = []\n",
    "        # 시퀀스로부터 예측 정수 레이블을 하나씩 꺼낸다.\n",
    "        for pred_index in sequence:\n",
    "            # index_to_ner을 사용하여 정수를 태깅 정보로 변환. 'PAD'는 'O'로 변경.\n",
    "            word_sequence.append(index_to_ner[pred_index].replace(\"PAD\", \"O\"))\n",
    "        result.append(word_sequence)\n",
    "    return result\n",
    "\n",
    "pred_tags = sequences_to_tag_for_crf(y_predicted)\n",
    "test_tags = sequences_to_tag(y_test)\n",
    "\n",
    "print(\"F1-score: {:.1%}\".format(f1_score(test_tags, pred_tags)))\n",
    "print(classification_report(test_tags, pred_tags))"
   ]
  }
 ],
 "metadata": {
  "kernelspec": {
   "display_name": "Python 3 (ipykernel)",
   "language": "python",
   "name": "python3"
  },
  "language_info": {
   "codemirror_mode": {
    "name": "ipython",
    "version": 3
   },
   "file_extension": ".py",
   "mimetype": "text/x-python",
   "name": "python",
   "nbconvert_exporter": "python",
   "pygments_lexer": "ipython3",
   "version": "3.8.13"
  }
 },
 "nbformat": 4,
 "nbformat_minor": 5
}
